{
 "cells": [
  {
   "cell_type": "markdown",
   "metadata": {},
   "source": [
    "<div style=\"padding:20px;color:black;margin:0;font-size:200%;text-align:center;display:fill;border-radius:5px;background-color:#f88158;overflow:hidden;font-weight:500\">Introduction</div>\n",
    "<br>\n",
    "<div align='center'><img src=\"../images/NBA_Draft_Combine_logo.jpg\"/></div>\n",
    "The NBA Combine is ...."
   ]
  },
  {
   "cell_type": "markdown",
   "metadata": {},
   "source": [
    "<div style=\"padding:20px;color:black;margin:0;font-size:200%;text-align:center;display:fill;border-radius:5px;background-color:#f88158;overflow:hidden;font-weight:500\">Data Description</div>\n",
    "<br>"
   ]
  },
  {
   "cell_type": "markdown",
   "metadata": {},
   "source": [
    "<div style=\"padding:20px;color:black;margin:0;font-size:200%;text-align:center;display:fill;border-radius:5px;background-color:#74bde0;overflow:hidden;font-weight:500\">Data Description</div>\n",
    "<br>\n",
    "<li><b>player_id</b>: Unique identifier.</li>\n",
    "<li><b>yearDraft</b>: The year the player got drafted into the NBA.</li>\n",
    "<li><b>yearCombine</b>: The year the player joined the NBA Combine (the same as yearDraft).</li>\n",
    "<li><b>numberPickOverall</b>: The overall pick of said player.</li>\n",
    "<li><b>namePlayer</b>: Full name of the player.</li>\n",
    "<li><b>position</b>: The position the player is registered at.</li>\n",
    "<li><b>height</b>: The player's height without shoes in inches.</li>\n",
    "<li><b>weight</b>: The player's weight in lbs.</li>\n",
    "<li><b>wingspan</b>: The player's wingspan in inches.</li>\n",
    "<li><b>reach_standing</b>: The reach of a player's hand when standing, in inches.</li>\n",
    "<li><b>standing_vertical</b>: The height of a player's jump from standing, in inches.</li>\n",
    "<li><b>max_vertical</b>: The height of a player's maximum jump, usually with a short run, in inches.</li>\n",
    "<li><b>bench_reps</b>: The maximum reps a player can do with a barbell weight of 135lbs.</li>\n",
    "<li><b>body_fat_pct</b>: The player's body fat percentage.</li>\n",
    "<li><b>drafted</b>: The target variable, whether or not a player in the combine got drafted in the NBA Draft.</li>"
   ]
  },
  {
   "cell_type": "code",
   "execution_count": 76,
   "metadata": {},
   "outputs": [],
   "source": [
    "import pandas as pd\n",
    "import numpy as np\n",
    "import matplotlib.pyplot as plt\n",
    "import seaborn as sns\n",
    "import plotly.express as px\n",
    "\n",
    "from sklearn.impute import SimpleImputer\n",
    "\n",
    "import sys\n",
    "\n",
    "sys.path.insert(1, '..')\n",
    "sys.path.insert(1, 'C:/Users/61411/personal-project/NBA/my_packages/')\n",
    "\n",
    "import joblib"
   ]
  },
  {
   "cell_type": "code",
   "execution_count": 77,
   "metadata": {},
   "outputs": [
    {
     "data": {
      "text/plain": [
       "['c:\\\\Users\\\\61411\\\\personal-project\\\\NBA\\\\notebooks',\n",
       " 'C:/Users/61411/personal-project/NBA/my_packages/',\n",
       " '..',\n",
       " 'C:/Users/61411/personal-project/NBA/my_packages/',\n",
       " '..',\n",
       " 'c:\\\\Users\\\\61411\\\\anaconda3\\\\python39.zip',\n",
       " 'c:\\\\Users\\\\61411\\\\anaconda3\\\\DLLs',\n",
       " 'c:\\\\Users\\\\61411\\\\anaconda3\\\\lib',\n",
       " 'c:\\\\Users\\\\61411\\\\anaconda3',\n",
       " '',\n",
       " 'c:\\\\Users\\\\61411\\\\anaconda3\\\\lib\\\\site-packages',\n",
       " 'c:\\\\Users\\\\61411\\\\anaconda3\\\\lib\\\\site-packages\\\\win32',\n",
       " 'c:\\\\Users\\\\61411\\\\anaconda3\\\\lib\\\\site-packages\\\\win32\\\\lib',\n",
       " 'c:\\\\Users\\\\61411\\\\anaconda3\\\\lib\\\\site-packages\\\\Pythonwin']"
      ]
     },
     "execution_count": 77,
     "metadata": {},
     "output_type": "execute_result"
    }
   ],
   "source": [
    "sys.path"
   ]
  },
  {
   "cell_type": "code",
   "execution_count": 78,
   "metadata": {},
   "outputs": [],
   "source": [
    "train = pd.read_csv('../datasets/draft_combine_train.csv')"
   ]
  },
  {
   "cell_type": "code",
   "execution_count": 79,
   "metadata": {},
   "outputs": [],
   "source": [
    "train_copy = train.copy()"
   ]
  },
  {
   "cell_type": "code",
   "execution_count": 80,
   "metadata": {},
   "outputs": [
    {
     "name": "stdout",
     "output_type": "stream",
     "text": [
      "<class 'pandas.core.frame.DataFrame'>\n",
      "RangeIndex: 1116 entries, 0 to 1115\n",
      "Data columns (total 20 columns):\n",
      " #   Column                       Non-Null Count  Dtype  \n",
      "---  ------                       --------------  -----  \n",
      " 0   player_id                    1116 non-null   float64\n",
      " 1   player_name                  1116 non-null   object \n",
      " 2   yearDraft                    650 non-null    float64\n",
      " 3   yearCombine                  1116 non-null   int64  \n",
      " 4   numberPickOverall            650 non-null    float64\n",
      " 5   position                     1112 non-null   object \n",
      " 6   height                       1108 non-null   float64\n",
      " 7   weight                       1106 non-null   float64\n",
      " 8   wingspan                     1109 non-null   float64\n",
      " 9   reach_standing               1108 non-null   float64\n",
      " 10  standing_vertical            984 non-null    float64\n",
      " 11  max_vertical                 983 non-null    float64\n",
      " 12  bench_reps                   873 non-null    float64\n",
      " 13  timeLaneAgility              977 non-null    float64\n",
      " 14  timeThreeQuarterCourtSprint  977 non-null    float64\n",
      " 15  timeModifiedLaneAgility      307 non-null    float64\n",
      " 16  lengthHandInches             520 non-null    float64\n",
      " 17  widthHandInches              520 non-null    float64\n",
      " 18  body_fat_pct                 922 non-null    float64\n",
      " 19  drafted                      1116 non-null   bool   \n",
      "dtypes: bool(1), float64(16), int64(1), object(2)\n",
      "memory usage: 166.9+ KB\n"
     ]
    }
   ],
   "source": [
    "train.info()"
   ]
  },
  {
   "cell_type": "markdown",
   "metadata": {},
   "source": [
    "# EDA"
   ]
  },
  {
   "cell_type": "code",
   "execution_count": 81,
   "metadata": {},
   "outputs": [
    {
     "data": {
      "image/png": "[encoded data removed]",
      "text/plain": [
       "<Figure size 1440x1080 with 20 Axes>"
      ]
     },
     "metadata": {
      "needs_background": "light"
     },
     "output_type": "display_data"
    }
   ],
   "source": [
    "train.hist(bins=40, figsize=(20,15));"
   ]
  },
  {
   "cell_type": "markdown",
   "metadata": {},
   "source": [
    "Few things noticed from these histograms:\n",
    "<li>Many histograms are actually quite close to normal with right skewness.</li>\n",
    "<li><i>'height'</i> is the only column with some left skewness. I guess it makes sense that most NBA prospects are going to be extremely tall.</li>\n",
    "<li>There is a year in <i>yearDraft</i> that doesn't seem like it belongs there. As all the the years are 2000 onwards, except for that one.</li>\n",
    "\n",
    "\n",
    "Let's quickly see the relationship between two variables. Percentage body fat and vertical leap seems to be a good start. We'd expect a negative slope considering that if you're fatter, it's probably harder to jump higher. "
   ]
  },
  {
   "cell_type": "code",
   "execution_count": 82,
   "metadata": {},
   "outputs": [
    {
     "data": {
      "text/html": [
       "<div>\n",
       "<style scoped>\n",
       "    .dataframe tbody tr th:only-of-type {\n",
       "        vertical-align: middle;\n",
       "    }\n",
       "\n",
       "    .dataframe tbody tr th {\n",
       "        vertical-align: top;\n",
       "    }\n",
       "\n",
       "    .dataframe thead th {\n",
       "        text-align: right;\n",
       "    }\n",
       "</style>\n",
       "<table border=\"1\" class=\"dataframe\">\n",
       "  <thead>\n",
       "    <tr style=\"text-align: right;\">\n",
       "      <th></th>\n",
       "      <th>player_id</th>\n",
       "      <th>player_name</th>\n",
       "      <th>yearDraft</th>\n",
       "      <th>yearCombine</th>\n",
       "      <th>numberPickOverall</th>\n",
       "      <th>position</th>\n",
       "      <th>height</th>\n",
       "      <th>weight</th>\n",
       "      <th>wingspan</th>\n",
       "      <th>reach_standing</th>\n",
       "      <th>standing_vertical</th>\n",
       "      <th>max_vertical</th>\n",
       "      <th>bench_reps</th>\n",
       "      <th>timeLaneAgility</th>\n",
       "      <th>timeThreeQuarterCourtSprint</th>\n",
       "      <th>timeModifiedLaneAgility</th>\n",
       "      <th>lengthHandInches</th>\n",
       "      <th>widthHandInches</th>\n",
       "      <th>body_fat_pct</th>\n",
       "      <th>drafted</th>\n",
       "    </tr>\n",
       "  </thead>\n",
       "  <tbody>\n",
       "    <tr>\n",
       "      <th>526</th>\n",
       "      <td>199.0</td>\n",
       "      <td>Reggie Williams</td>\n",
       "      <td>1987.0</td>\n",
       "      <td>2008</td>\n",
       "      <td>4.0</td>\n",
       "      <td>SG</td>\n",
       "      <td>75.25</td>\n",
       "      <td>199.0</td>\n",
       "      <td>81.25</td>\n",
       "      <td>103.0</td>\n",
       "      <td>31.5</td>\n",
       "      <td>36.5</td>\n",
       "      <td>15.0</td>\n",
       "      <td>11.32</td>\n",
       "      <td>3.07</td>\n",
       "      <td>NaN</td>\n",
       "      <td>NaN</td>\n",
       "      <td>NaN</td>\n",
       "      <td>5.3</td>\n",
       "      <td>True</td>\n",
       "    </tr>\n",
       "  </tbody>\n",
       "</table>\n",
       "</div>"
      ],
      "text/plain": [
       "     player_id      player_name  yearDraft  yearCombine  numberPickOverall  \\\n",
       "526      199.0  Reggie Williams     1987.0         2008                4.0   \n",
       "\n",
       "    position  height  weight  wingspan  reach_standing  standing_vertical  \\\n",
       "526       SG   75.25   199.0     81.25           103.0               31.5   \n",
       "\n",
       "     max_vertical  bench_reps  timeLaneAgility  timeThreeQuarterCourtSprint  \\\n",
       "526          36.5        15.0            11.32                         3.07   \n",
       "\n",
       "     timeModifiedLaneAgility  lengthHandInches  widthHandInches  body_fat_pct  \\\n",
       "526                      NaN               NaN              NaN           5.3   \n",
       "\n",
       "     drafted  \n",
       "526     True  "
      ]
     },
     "execution_count": 82,
     "metadata": {},
     "output_type": "execute_result"
    }
   ],
   "source": [
    "# check that yearDraft\n",
    "train[train.yearDraft < 2000]"
   ]
  },
  {
   "cell_type": "markdown",
   "metadata": {},
   "source": [
    "Looks like there's a mix up in the data. There had been a couple of Reggie Williams in the NBA. This particular Reggie, is someone who was drafted back in 1987, and there's a Reggie who attended the combine in 2008. A quick search revealed that Reggie William went undrafted, although eventually signed with a team after being undrafted. "
   ]
  },
  {
   "cell_type": "code",
   "execution_count": 83,
   "metadata": {},
   "outputs": [],
   "source": [
    "# change yearDraft to NaN\n",
    "train.loc[train.yearDraft < 2000, 'numberPickOverall'] = np.nan\n",
    "train.loc[train.yearDraft < 2000, 'drafted'] = False\n",
    "train.loc[train.yearDraft < 2000, 'yearDraft'] = np.nan\n"
   ]
  },
  {
   "cell_type": "code",
   "execution_count": 84,
   "metadata": {},
   "outputs": [
    {
     "data": {
      "text/plain": [
       "player_id                                199.0\n",
       "player_name                    Reggie Williams\n",
       "yearDraft                                  NaN\n",
       "yearCombine                               2008\n",
       "numberPickOverall                          NaN\n",
       "position                                    SG\n",
       "height                                   75.25\n",
       "weight                                   199.0\n",
       "wingspan                                 81.25\n",
       "reach_standing                           103.0\n",
       "standing_vertical                         31.5\n",
       "max_vertical                              36.5\n",
       "bench_reps                                15.0\n",
       "timeLaneAgility                          11.32\n",
       "timeThreeQuarterCourtSprint               3.07\n",
       "timeModifiedLaneAgility                    NaN\n",
       "lengthHandInches                           NaN\n",
       "widthHandInches                            NaN\n",
       "body_fat_pct                               5.3\n",
       "drafted                                  False\n",
       "Name: 526, dtype: object"
      ]
     },
     "execution_count": 84,
     "metadata": {},
     "output_type": "execute_result"
    }
   ],
   "source": [
    "train.iloc[526]"
   ]
  },
  {
   "cell_type": "code",
   "execution_count": 85,
   "metadata": {},
   "outputs": [
    {
     "data": {
      "image/png": "[encoded data removed]",
      "text/plain": [
       "<Figure size 720x504 with 1 Axes>"
      ]
     },
     "metadata": {
      "needs_background": "light"
     },
     "output_type": "display_data"
    }
   ],
   "source": [
    "train.plot(kind='scatter', x='body_fat_pct', y='standing_vertical', alpha=0.3, figsize=(10,7));"
   ]
  },
  {
   "cell_type": "markdown",
   "metadata": {},
   "source": [
    "This looks reasonable. "
   ]
  },
  {
   "cell_type": "code",
   "execution_count": 86,
   "metadata": {},
   "outputs": [
    {
     "data": {
      "text/plain": [
       "<AxesSubplot:xlabel='body_fat_pct', ylabel='standing_vertical'>"
      ]
     },
     "execution_count": 86,
     "metadata": {},
     "output_type": "execute_result"
    },
    {
     "data": {
      "image/png": "[encoded data removed]",
      "text/plain": [
       "<Figure size 720x504 with 2 Axes>"
      ]
     },
     "metadata": {
      "needs_background": "light"
     },
     "output_type": "display_data"
    }
   ],
   "source": [
    "train.plot(kind='scatter', x='body_fat_pct', y='standing_vertical',\n",
    "           alpha=0.5, figsize=(10, 7), c='bench_reps', cmap=plt.get_cmap(\"jet\"))\n"
   ]
  },
  {
   "cell_type": "code",
   "execution_count": 87,
   "metadata": {},
   "outputs": [
    {
     "data": {
      "text/plain": [
       "<AxesSubplot:>"
      ]
     },
     "execution_count": 87,
     "metadata": {},
     "output_type": "execute_result"
    },
    {
     "data": {
      "image/png": "[encoded data removed]",
      "text/plain": [
       "<Figure size 936x576 with 2 Axes>"
      ]
     },
     "metadata": {
      "needs_background": "light"
     },
     "output_type": "display_data"
    }
   ],
   "source": [
    "plt.figure(figsize=(13,8))\n",
    "sns.heatmap(train.select_dtypes(include='float64').corr())"
   ]
  },
  {
   "cell_type": "markdown",
   "metadata": {},
   "source": [
    "# Missing Values"
   ]
  },
  {
   "cell_type": "markdown",
   "metadata": {},
   "source": [
    "## yearDraft & numberPickOverall"
   ]
  },
  {
   "cell_type": "code",
   "execution_count": 88,
   "metadata": {},
   "outputs": [
    {
     "data": {
      "text/plain": [
       "player_id                        0\n",
       "player_name                      0\n",
       "yearDraft                      467\n",
       "yearCombine                      0\n",
       "numberPickOverall              467\n",
       "position                         4\n",
       "height                           8\n",
       "weight                          10\n",
       "wingspan                         7\n",
       "reach_standing                   8\n",
       "standing_vertical              132\n",
       "max_vertical                   133\n",
       "bench_reps                     243\n",
       "timeLaneAgility                139\n",
       "timeThreeQuarterCourtSprint    139\n",
       "timeModifiedLaneAgility        809\n",
       "lengthHandInches               596\n",
       "widthHandInches                596\n",
       "body_fat_pct                   194\n",
       "drafted                          0\n",
       "dtype: int64"
      ]
     },
     "execution_count": 88,
     "metadata": {},
     "output_type": "execute_result"
    }
   ],
   "source": [
    "train.isna().sum()"
   ]
  },
  {
   "cell_type": "markdown",
   "metadata": {},
   "source": [
    "<i>yearDraft</i> and <i>numberPickOverall</i> are missing together, this is because those missing values are for players who ended up undrafted. "
   ]
  },
  {
   "cell_type": "markdown",
   "metadata": {},
   "source": [
    "## slugPosition"
   ]
  },
  {
   "cell_type": "code",
   "execution_count": 89,
   "metadata": {},
   "outputs": [
    {
     "data": {
      "text/html": [
       "<div>\n",
       "<style scoped>\n",
       "    .dataframe tbody tr th:only-of-type {\n",
       "        vertical-align: middle;\n",
       "    }\n",
       "\n",
       "    .dataframe tbody tr th {\n",
       "        vertical-align: top;\n",
       "    }\n",
       "\n",
       "    .dataframe thead th {\n",
       "        text-align: right;\n",
       "    }\n",
       "</style>\n",
       "<table border=\"1\" class=\"dataframe\">\n",
       "  <thead>\n",
       "    <tr style=\"text-align: right;\">\n",
       "      <th></th>\n",
       "      <th>player_id</th>\n",
       "      <th>player_name</th>\n",
       "      <th>yearDraft</th>\n",
       "      <th>yearCombine</th>\n",
       "      <th>numberPickOverall</th>\n",
       "      <th>position</th>\n",
       "      <th>height</th>\n",
       "      <th>weight</th>\n",
       "      <th>wingspan</th>\n",
       "      <th>reach_standing</th>\n",
       "      <th>standing_vertical</th>\n",
       "      <th>max_vertical</th>\n",
       "      <th>bench_reps</th>\n",
       "      <th>timeLaneAgility</th>\n",
       "      <th>timeThreeQuarterCourtSprint</th>\n",
       "      <th>timeModifiedLaneAgility</th>\n",
       "      <th>lengthHandInches</th>\n",
       "      <th>widthHandInches</th>\n",
       "      <th>body_fat_pct</th>\n",
       "      <th>drafted</th>\n",
       "    </tr>\n",
       "  </thead>\n",
       "  <tbody>\n",
       "    <tr>\n",
       "      <th>88</th>\n",
       "      <td>1629681.0</td>\n",
       "      <td>Killian Tillie</td>\n",
       "      <td>NaN</td>\n",
       "      <td>2019</td>\n",
       "      <td>NaN</td>\n",
       "      <td>NaN</td>\n",
       "      <td>NaN</td>\n",
       "      <td>NaN</td>\n",
       "      <td>NaN</td>\n",
       "      <td>NaN</td>\n",
       "      <td>NaN</td>\n",
       "      <td>NaN</td>\n",
       "      <td>NaN</td>\n",
       "      <td>NaN</td>\n",
       "      <td>NaN</td>\n",
       "      <td>NaN</td>\n",
       "      <td>NaN</td>\n",
       "      <td>NaN</td>\n",
       "      <td>NaN</td>\n",
       "      <td>False</td>\n",
       "    </tr>\n",
       "    <tr>\n",
       "      <th>125</th>\n",
       "      <td>1629643.0</td>\n",
       "      <td>Chuma Okeke</td>\n",
       "      <td>2019.0</td>\n",
       "      <td>2019</td>\n",
       "      <td>16.0</td>\n",
       "      <td>NaN</td>\n",
       "      <td>NaN</td>\n",
       "      <td>NaN</td>\n",
       "      <td>NaN</td>\n",
       "      <td>NaN</td>\n",
       "      <td>NaN</td>\n",
       "      <td>NaN</td>\n",
       "      <td>NaN</td>\n",
       "      <td>NaN</td>\n",
       "      <td>NaN</td>\n",
       "      <td>NaN</td>\n",
       "      <td>NaN</td>\n",
       "      <td>NaN</td>\n",
       "      <td>NaN</td>\n",
       "      <td>True</td>\n",
       "    </tr>\n",
       "    <tr>\n",
       "      <th>830</th>\n",
       "      <td>201146.0</td>\n",
       "      <td>Jianlian Yi</td>\n",
       "      <td>2007.0</td>\n",
       "      <td>2007</td>\n",
       "      <td>6.0</td>\n",
       "      <td>NaN</td>\n",
       "      <td>NaN</td>\n",
       "      <td>NaN</td>\n",
       "      <td>NaN</td>\n",
       "      <td>NaN</td>\n",
       "      <td>NaN</td>\n",
       "      <td>NaN</td>\n",
       "      <td>NaN</td>\n",
       "      <td>NaN</td>\n",
       "      <td>NaN</td>\n",
       "      <td>NaN</td>\n",
       "      <td>NaN</td>\n",
       "      <td>NaN</td>\n",
       "      <td>NaN</td>\n",
       "      <td>True</td>\n",
       "    </tr>\n",
       "    <tr>\n",
       "      <th>1025</th>\n",
       "      <td>101122.0</td>\n",
       "      <td>Danny Granger</td>\n",
       "      <td>2005.0</td>\n",
       "      <td>2005</td>\n",
       "      <td>17.0</td>\n",
       "      <td>NaN</td>\n",
       "      <td>79.5</td>\n",
       "      <td>225.4</td>\n",
       "      <td>85.5</td>\n",
       "      <td>103.0</td>\n",
       "      <td>31.0</td>\n",
       "      <td>34.0</td>\n",
       "      <td>10.0</td>\n",
       "      <td>10.84</td>\n",
       "      <td>3.34</td>\n",
       "      <td>NaN</td>\n",
       "      <td>NaN</td>\n",
       "      <td>NaN</td>\n",
       "      <td>NaN</td>\n",
       "      <td>True</td>\n",
       "    </tr>\n",
       "  </tbody>\n",
       "</table>\n",
       "</div>"
      ],
      "text/plain": [
       "      player_id     player_name  yearDraft  yearCombine  numberPickOverall  \\\n",
       "88    1629681.0  Killian Tillie        NaN         2019                NaN   \n",
       "125   1629643.0     Chuma Okeke     2019.0         2019               16.0   \n",
       "830    201146.0     Jianlian Yi     2007.0         2007                6.0   \n",
       "1025   101122.0   Danny Granger     2005.0         2005               17.0   \n",
       "\n",
       "     position  height  weight  wingspan  reach_standing  standing_vertical  \\\n",
       "88        NaN     NaN     NaN       NaN             NaN                NaN   \n",
       "125       NaN     NaN     NaN       NaN             NaN                NaN   \n",
       "830       NaN     NaN     NaN       NaN             NaN                NaN   \n",
       "1025      NaN    79.5   225.4      85.5           103.0               31.0   \n",
       "\n",
       "      max_vertical  bench_reps  timeLaneAgility  timeThreeQuarterCourtSprint  \\\n",
       "88             NaN         NaN              NaN                          NaN   \n",
       "125            NaN         NaN              NaN                          NaN   \n",
       "830            NaN         NaN              NaN                          NaN   \n",
       "1025          34.0        10.0            10.84                         3.34   \n",
       "\n",
       "      timeModifiedLaneAgility  lengthHandInches  widthHandInches  \\\n",
       "88                        NaN               NaN              NaN   \n",
       "125                       NaN               NaN              NaN   \n",
       "830                       NaN               NaN              NaN   \n",
       "1025                      NaN               NaN              NaN   \n",
       "\n",
       "      body_fat_pct  drafted  \n",
       "88             NaN    False  \n",
       "125            NaN     True  \n",
       "830            NaN     True  \n",
       "1025           NaN     True  "
      ]
     },
     "execution_count": 89,
     "metadata": {},
     "output_type": "execute_result"
    }
   ],
   "source": [
    "train[train.position.isna()]"
   ]
  },
  {
   "cell_type": "code",
   "execution_count": 90,
   "metadata": {},
   "outputs": [
    {
     "data": {
      "text/plain": [
       "array(['PG', 'SG', 'SF', 'SG-PG', 'PF-C', 'SF-PF', 'PF', 'C', 'PG-SG',\n",
       "       'PF-SF', 'SF-SG', nan, 'C-PF', 'SG-SF'], dtype=object)"
      ]
     },
     "execution_count": 90,
     "metadata": {},
     "output_type": "execute_result"
    }
   ],
   "source": [
    "unique_position = train.position.unique()\n",
    "unique_position"
   ]
  },
  {
   "cell_type": "markdown",
   "metadata": {},
   "source": [
    "There are some positions that are double, meaning the players can play two positions with the first position being the primary position. We can just create another column to capture this information instead of having 14 unique positions."
   ]
  },
  {
   "cell_type": "code",
   "execution_count": 91,
   "metadata": {},
   "outputs": [],
   "source": [
    "train[['primary_position', 'secondary_position']] = train['position'].str.split('-', expand=True)"
   ]
  },
  {
   "cell_type": "markdown",
   "metadata": {},
   "source": [
    "# height"
   ]
  },
  {
   "cell_type": "code",
   "execution_count": 92,
   "metadata": {},
   "outputs": [
    {
     "data": {
      "text/html": [
       "<div>\n",
       "<style scoped>\n",
       "    .dataframe tbody tr th:only-of-type {\n",
       "        vertical-align: middle;\n",
       "    }\n",
       "\n",
       "    .dataframe tbody tr th {\n",
       "        vertical-align: top;\n",
       "    }\n",
       "\n",
       "    .dataframe thead th {\n",
       "        text-align: right;\n",
       "    }\n",
       "</style>\n",
       "<table border=\"1\" class=\"dataframe\">\n",
       "  <thead>\n",
       "    <tr style=\"text-align: right;\">\n",
       "      <th></th>\n",
       "      <th>player_id</th>\n",
       "      <th>player_name</th>\n",
       "      <th>yearDraft</th>\n",
       "      <th>yearCombine</th>\n",
       "      <th>numberPickOverall</th>\n",
       "      <th>position</th>\n",
       "      <th>height</th>\n",
       "      <th>weight</th>\n",
       "      <th>wingspan</th>\n",
       "      <th>reach_standing</th>\n",
       "      <th>...</th>\n",
       "      <th>bench_reps</th>\n",
       "      <th>timeLaneAgility</th>\n",
       "      <th>timeThreeQuarterCourtSprint</th>\n",
       "      <th>timeModifiedLaneAgility</th>\n",
       "      <th>lengthHandInches</th>\n",
       "      <th>widthHandInches</th>\n",
       "      <th>body_fat_pct</th>\n",
       "      <th>drafted</th>\n",
       "      <th>primary_position</th>\n",
       "      <th>secondary_position</th>\n",
       "    </tr>\n",
       "  </thead>\n",
       "  <tbody>\n",
       "    <tr>\n",
       "      <th>32</th>\n",
       "      <td>203458.0</td>\n",
       "      <td>Alex Len</td>\n",
       "      <td>2013.0</td>\n",
       "      <td>2013</td>\n",
       "      <td>5.0</td>\n",
       "      <td>C</td>\n",
       "      <td>NaN</td>\n",
       "      <td>NaN</td>\n",
       "      <td>87.5</td>\n",
       "      <td>NaN</td>\n",
       "      <td>...</td>\n",
       "      <td>NaN</td>\n",
       "      <td>NaN</td>\n",
       "      <td>NaN</td>\n",
       "      <td>NaN</td>\n",
       "      <td>9.0</td>\n",
       "      <td>10.75</td>\n",
       "      <td>6.4</td>\n",
       "      <td>True</td>\n",
       "      <td>C</td>\n",
       "      <td>None</td>\n",
       "    </tr>\n",
       "    <tr>\n",
       "      <th>88</th>\n",
       "      <td>1629681.0</td>\n",
       "      <td>Killian Tillie</td>\n",
       "      <td>NaN</td>\n",
       "      <td>2019</td>\n",
       "      <td>NaN</td>\n",
       "      <td>NaN</td>\n",
       "      <td>NaN</td>\n",
       "      <td>NaN</td>\n",
       "      <td>NaN</td>\n",
       "      <td>NaN</td>\n",
       "      <td>...</td>\n",
       "      <td>NaN</td>\n",
       "      <td>NaN</td>\n",
       "      <td>NaN</td>\n",
       "      <td>NaN</td>\n",
       "      <td>NaN</td>\n",
       "      <td>NaN</td>\n",
       "      <td>NaN</td>\n",
       "      <td>False</td>\n",
       "      <td>NaN</td>\n",
       "      <td>NaN</td>\n",
       "    </tr>\n",
       "    <tr>\n",
       "      <th>125</th>\n",
       "      <td>1629643.0</td>\n",
       "      <td>Chuma Okeke</td>\n",
       "      <td>2019.0</td>\n",
       "      <td>2019</td>\n",
       "      <td>16.0</td>\n",
       "      <td>NaN</td>\n",
       "      <td>NaN</td>\n",
       "      <td>NaN</td>\n",
       "      <td>NaN</td>\n",
       "      <td>NaN</td>\n",
       "      <td>...</td>\n",
       "      <td>NaN</td>\n",
       "      <td>NaN</td>\n",
       "      <td>NaN</td>\n",
       "      <td>NaN</td>\n",
       "      <td>NaN</td>\n",
       "      <td>NaN</td>\n",
       "      <td>NaN</td>\n",
       "      <td>True</td>\n",
       "      <td>NaN</td>\n",
       "      <td>NaN</td>\n",
       "    </tr>\n",
       "    <tr>\n",
       "      <th>232</th>\n",
       "      <td>12015.0</td>\n",
       "      <td>Blake Stepp</td>\n",
       "      <td>NaN</td>\n",
       "      <td>2004</td>\n",
       "      <td>NaN</td>\n",
       "      <td>PG</td>\n",
       "      <td>NaN</td>\n",
       "      <td>NaN</td>\n",
       "      <td>NaN</td>\n",
       "      <td>NaN</td>\n",
       "      <td>...</td>\n",
       "      <td>NaN</td>\n",
       "      <td>NaN</td>\n",
       "      <td>NaN</td>\n",
       "      <td>NaN</td>\n",
       "      <td>NaN</td>\n",
       "      <td>NaN</td>\n",
       "      <td>8.0</td>\n",
       "      <td>False</td>\n",
       "      <td>PG</td>\n",
       "      <td>None</td>\n",
       "    </tr>\n",
       "    <tr>\n",
       "      <th>286</th>\n",
       "      <td>1629630.0</td>\n",
       "      <td>Ja Morant</td>\n",
       "      <td>2019.0</td>\n",
       "      <td>2019</td>\n",
       "      <td>2.0</td>\n",
       "      <td>PG</td>\n",
       "      <td>NaN</td>\n",
       "      <td>NaN</td>\n",
       "      <td>NaN</td>\n",
       "      <td>NaN</td>\n",
       "      <td>...</td>\n",
       "      <td>NaN</td>\n",
       "      <td>NaN</td>\n",
       "      <td>NaN</td>\n",
       "      <td>NaN</td>\n",
       "      <td>NaN</td>\n",
       "      <td>NaN</td>\n",
       "      <td>NaN</td>\n",
       "      <td>True</td>\n",
       "      <td>PG</td>\n",
       "      <td>None</td>\n",
       "    </tr>\n",
       "    <tr>\n",
       "      <th>816</th>\n",
       "      <td>2740.0</td>\n",
       "      <td>Andris Biedrins</td>\n",
       "      <td>2004.0</td>\n",
       "      <td>2004</td>\n",
       "      <td>11.0</td>\n",
       "      <td>C</td>\n",
       "      <td>NaN</td>\n",
       "      <td>NaN</td>\n",
       "      <td>NaN</td>\n",
       "      <td>NaN</td>\n",
       "      <td>...</td>\n",
       "      <td>NaN</td>\n",
       "      <td>NaN</td>\n",
       "      <td>NaN</td>\n",
       "      <td>NaN</td>\n",
       "      <td>NaN</td>\n",
       "      <td>NaN</td>\n",
       "      <td>9.3</td>\n",
       "      <td>True</td>\n",
       "      <td>C</td>\n",
       "      <td>None</td>\n",
       "    </tr>\n",
       "    <tr>\n",
       "      <th>830</th>\n",
       "      <td>201146.0</td>\n",
       "      <td>Jianlian Yi</td>\n",
       "      <td>2007.0</td>\n",
       "      <td>2007</td>\n",
       "      <td>6.0</td>\n",
       "      <td>NaN</td>\n",
       "      <td>NaN</td>\n",
       "      <td>NaN</td>\n",
       "      <td>NaN</td>\n",
       "      <td>NaN</td>\n",
       "      <td>...</td>\n",
       "      <td>NaN</td>\n",
       "      <td>NaN</td>\n",
       "      <td>NaN</td>\n",
       "      <td>NaN</td>\n",
       "      <td>NaN</td>\n",
       "      <td>NaN</td>\n",
       "      <td>NaN</td>\n",
       "      <td>True</td>\n",
       "      <td>NaN</td>\n",
       "      <td>NaN</td>\n",
       "    </tr>\n",
       "    <tr>\n",
       "      <th>1030</th>\n",
       "      <td>200969.0</td>\n",
       "      <td>Mustafa Al-Sayyad</td>\n",
       "      <td>NaN</td>\n",
       "      <td>2005</td>\n",
       "      <td>NaN</td>\n",
       "      <td>PF-C</td>\n",
       "      <td>NaN</td>\n",
       "      <td>NaN</td>\n",
       "      <td>NaN</td>\n",
       "      <td>NaN</td>\n",
       "      <td>...</td>\n",
       "      <td>NaN</td>\n",
       "      <td>11.56</td>\n",
       "      <td>3.42</td>\n",
       "      <td>NaN</td>\n",
       "      <td>NaN</td>\n",
       "      <td>NaN</td>\n",
       "      <td>NaN</td>\n",
       "      <td>False</td>\n",
       "      <td>PF</td>\n",
       "      <td>C</td>\n",
       "    </tr>\n",
       "  </tbody>\n",
       "</table>\n",
       "<p>8 rows × 22 columns</p>\n",
       "</div>"
      ],
      "text/plain": [
       "      player_id        player_name  yearDraft  yearCombine  numberPickOverall  \\\n",
       "32     203458.0           Alex Len     2013.0         2013                5.0   \n",
       "88    1629681.0     Killian Tillie        NaN         2019                NaN   \n",
       "125   1629643.0        Chuma Okeke     2019.0         2019               16.0   \n",
       "232     12015.0        Blake Stepp        NaN         2004                NaN   \n",
       "286   1629630.0          Ja Morant     2019.0         2019                2.0   \n",
       "816      2740.0    Andris Biedrins     2004.0         2004               11.0   \n",
       "830    201146.0        Jianlian Yi     2007.0         2007                6.0   \n",
       "1030   200969.0  Mustafa Al-Sayyad        NaN         2005                NaN   \n",
       "\n",
       "     position  height  weight  wingspan  reach_standing  ...  bench_reps  \\\n",
       "32          C     NaN     NaN      87.5             NaN  ...         NaN   \n",
       "88        NaN     NaN     NaN       NaN             NaN  ...         NaN   \n",
       "125       NaN     NaN     NaN       NaN             NaN  ...         NaN   \n",
       "232        PG     NaN     NaN       NaN             NaN  ...         NaN   \n",
       "286        PG     NaN     NaN       NaN             NaN  ...         NaN   \n",
       "816         C     NaN     NaN       NaN             NaN  ...         NaN   \n",
       "830       NaN     NaN     NaN       NaN             NaN  ...         NaN   \n",
       "1030     PF-C     NaN     NaN       NaN             NaN  ...         NaN   \n",
       "\n",
       "      timeLaneAgility  timeThreeQuarterCourtSprint  timeModifiedLaneAgility  \\\n",
       "32                NaN                          NaN                      NaN   \n",
       "88                NaN                          NaN                      NaN   \n",
       "125               NaN                          NaN                      NaN   \n",
       "232               NaN                          NaN                      NaN   \n",
       "286               NaN                          NaN                      NaN   \n",
       "816               NaN                          NaN                      NaN   \n",
       "830               NaN                          NaN                      NaN   \n",
       "1030            11.56                         3.42                      NaN   \n",
       "\n",
       "      lengthHandInches  widthHandInches  body_fat_pct  drafted  \\\n",
       "32                 9.0            10.75           6.4     True   \n",
       "88                 NaN              NaN           NaN    False   \n",
       "125                NaN              NaN           NaN     True   \n",
       "232                NaN              NaN           8.0    False   \n",
       "286                NaN              NaN           NaN     True   \n",
       "816                NaN              NaN           9.3     True   \n",
       "830                NaN              NaN           NaN     True   \n",
       "1030               NaN              NaN           NaN    False   \n",
       "\n",
       "      primary_position  secondary_position  \n",
       "32                   C                None  \n",
       "88                 NaN                 NaN  \n",
       "125                NaN                 NaN  \n",
       "232                 PG                None  \n",
       "286                 PG                None  \n",
       "816                  C                None  \n",
       "830                NaN                 NaN  \n",
       "1030                PF                   C  \n",
       "\n",
       "[8 rows x 22 columns]"
      ]
     },
     "execution_count": 92,
     "metadata": {},
     "output_type": "execute_result"
    }
   ],
   "source": [
    "train[train.height.isna()]"
   ]
  },
  {
   "cell_type": "code",
   "execution_count": 93,
   "metadata": {},
   "outputs": [],
   "source": [
    "combine_measure = train.columns[6:-3]\n",
    "\n",
    "# check if they attended the Combine\n",
    "train['attend_combine'] = (train[combine_measure].notna().sum(axis=1) > 0)"
   ]
  },
  {
   "cell_type": "code",
   "execution_count": 94,
   "metadata": {},
   "outputs": [
    {
     "data": {
      "text/plain": [
       "True     1112\n",
       "False       4\n",
       "Name: attend_combine, dtype: int64"
      ]
     },
     "execution_count": 94,
     "metadata": {},
     "output_type": "execute_result"
    }
   ],
   "source": [
    "train.attend_combine.value_counts()"
   ]
  },
  {
   "cell_type": "markdown",
   "metadata": {},
   "source": [
    "height, weight, wingspan, and reach_standing             \n",
    "\n",
    "can be imputed with the median"
   ]
  },
  {
   "cell_type": "code",
   "execution_count": 95,
   "metadata": {},
   "outputs": [
    {
     "data": {
      "text/plain": [
       "player_id                        0\n",
       "player_name                      0\n",
       "yearDraft                      467\n",
       "yearCombine                      0\n",
       "numberPickOverall              467\n",
       "position                         4\n",
       "height                           8\n",
       "weight                          10\n",
       "wingspan                         7\n",
       "reach_standing                   8\n",
       "standing_vertical              132\n",
       "max_vertical                   133\n",
       "bench_reps                     243\n",
       "timeLaneAgility                139\n",
       "timeThreeQuarterCourtSprint    139\n",
       "timeModifiedLaneAgility        809\n",
       "lengthHandInches               596\n",
       "widthHandInches                596\n",
       "body_fat_pct                   194\n",
       "drafted                          0\n",
       "primary_position                 4\n",
       "secondary_position             720\n",
       "attend_combine                   0\n",
       "dtype: int64"
      ]
     },
     "execution_count": 95,
     "metadata": {},
     "output_type": "execute_result"
    }
   ],
   "source": [
    "train.isna().sum()"
   ]
  },
  {
   "cell_type": "code",
   "execution_count": 96,
   "metadata": {},
   "outputs": [],
   "source": [
    "def histplots_with_hue(data, cols: list, hue: str):\n",
    "    fig, ax = plt.subplots(len(cols), figsize=(3*len(cols), 3*len(cols)))\n",
    "\n",
    "    for i, col_name in enumerate(cols):\n",
    "        sns.histplot(data=data, x=col_name, hue=hue, multiple='fill', ax=ax[i])\n",
    "        sns.move_legend(ax[i], loc=(1.05, 0.5))\n",
    "\n",
    "    fig.tight_layout()"
   ]
  },
  {
   "cell_type": "code",
   "execution_count": 97,
   "metadata": {},
   "outputs": [
    {
     "data": {
      "image/png": "[encoded data removed]",
      "text/plain": [
       "<Figure size 1728x1728 with 8 Axes>"
      ]
     },
     "metadata": {
      "needs_background": "light"
     },
     "output_type": "display_data"
    }
   ],
   "source": [
    "col_list = [\n",
    "    'standing_vertical', 'max_vertical', 'bench_reps', 'timeLaneAgility', 'timeThreeQuarterCourtSprint', 'lengthHandInches', 'widthHandInches','body_fat_pct'\n",
    "]\n",
    "\n",
    "histplots_with_hue(train, col_list, 'primary_position')"
   ]
  },
  {
   "cell_type": "code",
   "execution_count": 98,
   "metadata": {},
   "outputs": [
    {
     "data": {
      "text/html": [
       "<div>\n",
       "<style scoped>\n",
       "    .dataframe tbody tr th:only-of-type {\n",
       "        vertical-align: middle;\n",
       "    }\n",
       "\n",
       "    .dataframe tbody tr th {\n",
       "        vertical-align: top;\n",
       "    }\n",
       "\n",
       "    .dataframe thead th {\n",
       "        text-align: right;\n",
       "    }\n",
       "</style>\n",
       "<table border=\"1\" class=\"dataframe\">\n",
       "  <thead>\n",
       "    <tr style=\"text-align: right;\">\n",
       "      <th></th>\n",
       "      <th>player_id</th>\n",
       "      <th>player_name</th>\n",
       "      <th>yearDraft</th>\n",
       "      <th>yearCombine</th>\n",
       "      <th>numberPickOverall</th>\n",
       "      <th>position</th>\n",
       "      <th>height</th>\n",
       "      <th>weight</th>\n",
       "      <th>wingspan</th>\n",
       "      <th>reach_standing</th>\n",
       "      <th>...</th>\n",
       "      <th>timeLaneAgility</th>\n",
       "      <th>timeThreeQuarterCourtSprint</th>\n",
       "      <th>timeModifiedLaneAgility</th>\n",
       "      <th>lengthHandInches</th>\n",
       "      <th>widthHandInches</th>\n",
       "      <th>body_fat_pct</th>\n",
       "      <th>drafted</th>\n",
       "      <th>primary_position</th>\n",
       "      <th>secondary_position</th>\n",
       "      <th>attend_combine</th>\n",
       "    </tr>\n",
       "  </thead>\n",
       "  <tbody>\n",
       "    <tr>\n",
       "      <th>124</th>\n",
       "      <td>2065.0</td>\n",
       "      <td>Mike Smith</td>\n",
       "      <td>2000.0</td>\n",
       "      <td>2000</td>\n",
       "      <td>35.0</td>\n",
       "      <td>SF</td>\n",
       "      <td>78.5</td>\n",
       "      <td>198.0</td>\n",
       "      <td>80.5</td>\n",
       "      <td>103.0</td>\n",
       "      <td>...</td>\n",
       "      <td>11.32</td>\n",
       "      <td>3.22</td>\n",
       "      <td>NaN</td>\n",
       "      <td>NaN</td>\n",
       "      <td>NaN</td>\n",
       "      <td>NaN</td>\n",
       "      <td>True</td>\n",
       "      <td>SF</td>\n",
       "      <td>None</td>\n",
       "      <td>True</td>\n",
       "    </tr>\n",
       "  </tbody>\n",
       "</table>\n",
       "<p>1 rows × 23 columns</p>\n",
       "</div>"
      ],
      "text/plain": [
       "     player_id player_name  yearDraft  yearCombine  numberPickOverall  \\\n",
       "124     2065.0  Mike Smith     2000.0         2000               35.0   \n",
       "\n",
       "    position  height  weight  wingspan  reach_standing  ...  timeLaneAgility  \\\n",
       "124       SF    78.5   198.0      80.5           103.0  ...            11.32   \n",
       "\n",
       "     timeThreeQuarterCourtSprint  timeModifiedLaneAgility  lengthHandInches  \\\n",
       "124                         3.22                      NaN               NaN   \n",
       "\n",
       "     widthHandInches  body_fat_pct  drafted  primary_position  \\\n",
       "124              NaN           NaN     True                SF   \n",
       "\n",
       "     secondary_position  attend_combine  \n",
       "124                None            True  \n",
       "\n",
       "[1 rows x 23 columns]"
      ]
     },
     "execution_count": 98,
     "metadata": {},
     "output_type": "execute_result"
    }
   ],
   "source": [
    "train[train.max_vertical < 25]"
   ]
  },
  {
   "cell_type": "code",
   "execution_count": 99,
   "metadata": {},
   "outputs": [
    {
     "data": {
      "text/html": [
       "<div>\n",
       "<style scoped>\n",
       "    .dataframe tbody tr th:only-of-type {\n",
       "        vertical-align: middle;\n",
       "    }\n",
       "\n",
       "    .dataframe tbody tr th {\n",
       "        vertical-align: top;\n",
       "    }\n",
       "\n",
       "    .dataframe thead th {\n",
       "        text-align: right;\n",
       "    }\n",
       "</style>\n",
       "<table border=\"1\" class=\"dataframe\">\n",
       "  <thead>\n",
       "    <tr style=\"text-align: right;\">\n",
       "      <th></th>\n",
       "      <th>player_id</th>\n",
       "      <th>player_name</th>\n",
       "      <th>yearDraft</th>\n",
       "      <th>yearCombine</th>\n",
       "      <th>numberPickOverall</th>\n",
       "      <th>position</th>\n",
       "      <th>height</th>\n",
       "      <th>weight</th>\n",
       "      <th>wingspan</th>\n",
       "      <th>reach_standing</th>\n",
       "      <th>...</th>\n",
       "      <th>timeLaneAgility</th>\n",
       "      <th>timeThreeQuarterCourtSprint</th>\n",
       "      <th>timeModifiedLaneAgility</th>\n",
       "      <th>lengthHandInches</th>\n",
       "      <th>widthHandInches</th>\n",
       "      <th>body_fat_pct</th>\n",
       "      <th>drafted</th>\n",
       "      <th>primary_position</th>\n",
       "      <th>secondary_position</th>\n",
       "      <th>attend_combine</th>\n",
       "    </tr>\n",
       "  </thead>\n",
       "  <tbody>\n",
       "    <tr>\n",
       "      <th>344</th>\n",
       "      <td>2249.0</td>\n",
       "      <td>Jamison Brewer</td>\n",
       "      <td>2001.0</td>\n",
       "      <td>2001</td>\n",
       "      <td>40.0</td>\n",
       "      <td>PG</td>\n",
       "      <td>74.5</td>\n",
       "      <td>178.0</td>\n",
       "      <td>80.75</td>\n",
       "      <td>102.5</td>\n",
       "      <td>...</td>\n",
       "      <td>9.65</td>\n",
       "      <td>3.15</td>\n",
       "      <td>NaN</td>\n",
       "      <td>NaN</td>\n",
       "      <td>NaN</td>\n",
       "      <td>6.7</td>\n",
       "      <td>True</td>\n",
       "      <td>PG</td>\n",
       "      <td>None</td>\n",
       "      <td>True</td>\n",
       "    </tr>\n",
       "    <tr>\n",
       "      <th>792</th>\n",
       "      <td>1629648.0</td>\n",
       "      <td>Jordan Bone</td>\n",
       "      <td>2019.0</td>\n",
       "      <td>2019</td>\n",
       "      <td>57.0</td>\n",
       "      <td>SG</td>\n",
       "      <td>73.5</td>\n",
       "      <td>179.0</td>\n",
       "      <td>75.25</td>\n",
       "      <td>95.0</td>\n",
       "      <td>...</td>\n",
       "      <td>9.97</td>\n",
       "      <td>3.08</td>\n",
       "      <td>2.78</td>\n",
       "      <td>7.5</td>\n",
       "      <td>9.25</td>\n",
       "      <td>5.0</td>\n",
       "      <td>True</td>\n",
       "      <td>SG</td>\n",
       "      <td>None</td>\n",
       "      <td>True</td>\n",
       "    </tr>\n",
       "  </tbody>\n",
       "</table>\n",
       "<p>2 rows × 23 columns</p>\n",
       "</div>"
      ],
      "text/plain": [
       "     player_id     player_name  yearDraft  yearCombine  numberPickOverall  \\\n",
       "344     2249.0  Jamison Brewer     2001.0         2001               40.0   \n",
       "792  1629648.0     Jordan Bone     2019.0         2019               57.0   \n",
       "\n",
       "    position  height  weight  wingspan  reach_standing  ...  timeLaneAgility  \\\n",
       "344       PG    74.5   178.0     80.75           102.5  ...             9.65   \n",
       "792       SG    73.5   179.0     75.25            95.0  ...             9.97   \n",
       "\n",
       "     timeThreeQuarterCourtSprint  timeModifiedLaneAgility  lengthHandInches  \\\n",
       "344                         3.15                      NaN               NaN   \n",
       "792                         3.08                     2.78               7.5   \n",
       "\n",
       "     widthHandInches  body_fat_pct  drafted  primary_position  \\\n",
       "344              NaN           6.7     True                PG   \n",
       "792             9.25           5.0     True                SG   \n",
       "\n",
       "     secondary_position  attend_combine  \n",
       "344                None            True  \n",
       "792                None            True  \n",
       "\n",
       "[2 rows x 23 columns]"
      ]
     },
     "execution_count": 99,
     "metadata": {},
     "output_type": "execute_result"
    }
   ],
   "source": [
    "train[train.timeLaneAgility < 10]"
   ]
  },
  {
   "cell_type": "code",
   "execution_count": 100,
   "metadata": {},
   "outputs": [
    {
     "data": {
      "text/html": [
       "<div>\n",
       "<style scoped>\n",
       "    .dataframe tbody tr th:only-of-type {\n",
       "        vertical-align: middle;\n",
       "    }\n",
       "\n",
       "    .dataframe tbody tr th {\n",
       "        vertical-align: top;\n",
       "    }\n",
       "\n",
       "    .dataframe thead th {\n",
       "        text-align: right;\n",
       "    }\n",
       "</style>\n",
       "<table border=\"1\" class=\"dataframe\">\n",
       "  <thead>\n",
       "    <tr style=\"text-align: right;\">\n",
       "      <th></th>\n",
       "      <th>player_name</th>\n",
       "      <th>standing_vertical</th>\n",
       "      <th>max_vertical</th>\n",
       "    </tr>\n",
       "  </thead>\n",
       "  <tbody>\n",
       "    <tr>\n",
       "      <th>58</th>\n",
       "      <td>Marko Tomas</td>\n",
       "      <td>32.0</td>\n",
       "      <td>31.5</td>\n",
       "    </tr>\n",
       "    <tr>\n",
       "      <th>124</th>\n",
       "      <td>Mike Smith</td>\n",
       "      <td>33.0</td>\n",
       "      <td>21.0</td>\n",
       "    </tr>\n",
       "    <tr>\n",
       "      <th>536</th>\n",
       "      <td>Donnell Harvey</td>\n",
       "      <td>33.0</td>\n",
       "      <td>32.5</td>\n",
       "    </tr>\n",
       "    <tr>\n",
       "      <th>637</th>\n",
       "      <td>Festus Ezeli</td>\n",
       "      <td>34.0</td>\n",
       "      <td>33.5</td>\n",
       "    </tr>\n",
       "    <tr>\n",
       "      <th>662</th>\n",
       "      <td>Shawne Williams</td>\n",
       "      <td>32.0</td>\n",
       "      <td>31.0</td>\n",
       "    </tr>\n",
       "    <tr>\n",
       "      <th>700</th>\n",
       "      <td>Craig Smith</td>\n",
       "      <td>30.0</td>\n",
       "      <td>29.5</td>\n",
       "    </tr>\n",
       "    <tr>\n",
       "      <th>795</th>\n",
       "      <td>Yemi Nicholson</td>\n",
       "      <td>26.5</td>\n",
       "      <td>26.0</td>\n",
       "    </tr>\n",
       "    <tr>\n",
       "      <th>983</th>\n",
       "      <td>Keith Langford</td>\n",
       "      <td>32.0</td>\n",
       "      <td>29.5</td>\n",
       "    </tr>\n",
       "  </tbody>\n",
       "</table>\n",
       "</div>"
      ],
      "text/plain": [
       "         player_name  standing_vertical  max_vertical\n",
       "58       Marko Tomas               32.0          31.5\n",
       "124       Mike Smith               33.0          21.0\n",
       "536   Donnell Harvey               33.0          32.5\n",
       "637     Festus Ezeli               34.0          33.5\n",
       "662  Shawne Williams               32.0          31.0\n",
       "700      Craig Smith               30.0          29.5\n",
       "795   Yemi Nicholson               26.5          26.0\n",
       "983   Keith Langford               32.0          29.5"
      ]
     },
     "execution_count": 100,
     "metadata": {},
     "output_type": "execute_result"
    }
   ],
   "source": [
    "train[train.standing_vertical > train.max_vertical][['player_name', 'standing_vertical', 'max_vertical']]"
   ]
  },
  {
   "cell_type": "markdown",
   "metadata": {},
   "source": [
    "<li>Most centers (C) and power forwards (PF) have lower verticals, as expected. They're bigger and heavier.</li>\n",
    "<li>Guards and Small Forwards (SF) tend to have higher verticals.</li>\n",
    "<li>Some players have higher standing vertical jump than max vertical jump which is the jump after a run-up. This is probably due to poor technique when jumping. Most notably, Mike Smith.</li>\n",
    "\n",
    "All in all, the data make sense so we can be confident that the data that exist, can be trusted.\n",
    "\n",
    "Other than natural physical attributes like height and weight, I'm not imputing missing values. This is because I want the model I build to be able to pick out the special players that are going to be drafted and by imputing them, considering a significant portion of the data is missing, I'll add too much bias and reduce whatever selected model's ability to make a good prediction."
   ]
  },
  {
   "cell_type": "code",
   "execution_count": 102,
   "metadata": {},
   "outputs": [],
   "source": [
    "from my_packages import my_transfomers\n",
    "from my_transfomers import CustomTransformer\n",
    "from my_transfomers import TopFeatureSelector\n",
    "from sklearn.pipeline import Pipeline\n",
    "from sklearn.preprocessing import StandardScaler\n",
    "from sklearn.compose import ColumnTransformer\n",
    "from sklearn.preprocessing import OneHotEncoder\n"
   ]
  },
  {
   "cell_type": "code",
   "execution_count": 103,
   "metadata": {},
   "outputs": [
    {
     "name": "stdout",
     "output_type": "stream",
     "text": [
      "<class 'pandas.core.frame.DataFrame'>\n",
      "RangeIndex: 1116 entries, 0 to 1115\n",
      "Data columns (total 23 columns):\n",
      " #   Column                       Non-Null Count  Dtype  \n",
      "---  ------                       --------------  -----  \n",
      " 0   player_id                    1116 non-null   float64\n",
      " 1   player_name                  1116 non-null   object \n",
      " 2   yearDraft                    649 non-null    float64\n",
      " 3   yearCombine                  1116 non-null   int64  \n",
      " 4   numberPickOverall            649 non-null    float64\n",
      " 5   position                     1112 non-null   object \n",
      " 6   height                       1108 non-null   float64\n",
      " 7   weight                       1106 non-null   float64\n",
      " 8   wingspan                     1109 non-null   float64\n",
      " 9   reach_standing               1108 non-null   float64\n",
      " 10  standing_vertical            984 non-null    float64\n",
      " 11  max_vertical                 983 non-null    float64\n",
      " 12  bench_reps                   873 non-null    float64\n",
      " 13  timeLaneAgility              977 non-null    float64\n",
      " 14  timeThreeQuarterCourtSprint  977 non-null    float64\n",
      " 15  timeModifiedLaneAgility      307 non-null    float64\n",
      " 16  lengthHandInches             520 non-null    float64\n",
      " 17  widthHandInches              520 non-null    float64\n",
      " 18  body_fat_pct                 922 non-null    float64\n",
      " 19  drafted                      1116 non-null   bool   \n",
      " 20  primary_position             1112 non-null   object \n",
      " 21  secondary_position           396 non-null    object \n",
      " 22  attend_combine               1116 non-null   bool   \n",
      "dtypes: bool(2), float64(16), int64(1), object(4)\n",
      "memory usage: 185.4+ KB\n"
     ]
    }
   ],
   "source": [
    "train.info()"
   ]
  },
  {
   "cell_type": "code",
   "execution_count": 104,
   "metadata": {},
   "outputs": [],
   "source": [
    "players = pd.read_csv('../datasets/draft_combine_train.csv')\n",
    "players_label = players['drafted']\n",
    "players = players.drop(['player_id', 'player_name', 'yearDraft', 'numberPickOverall', 'drafted'], axis=1)\n",
    "\n",
    "\n",
    "num_other_cols = ['yearCombine', 'standing_vertical', 'max_vertical', 'bench_reps', 'timeLaneAgility', 'timeThreeQuarterCourtSprint', 'timeModifiedLaneAgility', 'lengthHandInches', 'widthHandInches', 'body_fat_pct']\n",
    "cat_cols = players.select_dtypes(exclude=['float64', 'int64']).columns\n",
    "num_impute_cols = ['height', 'weight', 'wingspan', 'reach_standing']"
   ]
  },
  {
   "cell_type": "code",
   "execution_count": null,
   "metadata": {},
   "outputs": [
    {
     "data": {
      "text/plain": [
       "['num_impute_cols.pkl']"
      ]
     },
     "execution_count": 68,
     "metadata": {},
     "output_type": "execute_result"
    }
   ],
   "source": [
    "# drop_cols = ['player_id', 'player_name', 'yearDraft', 'numberPickOverall', 'drafted']\n",
    "\n",
    "# joblib.dump(drop_cols, 'drop_cols.pkl')\n",
    "# joblib.dump(cat_cols, 'cat_cols.pkl')\n",
    "# joblib.dump(num_impute_cols, 'num_impute_cols.pkl')"
   ]
  },
  {
   "cell_type": "code",
   "execution_count": null,
   "metadata": {},
   "outputs": [
    {
     "data": {
      "text/html": [
       "<div>\n",
       "<style scoped>\n",
       "    .dataframe tbody tr th:only-of-type {\n",
       "        vertical-align: middle;\n",
       "    }\n",
       "\n",
       "    .dataframe tbody tr th {\n",
       "        vertical-align: top;\n",
       "    }\n",
       "\n",
       "    .dataframe thead th {\n",
       "        text-align: right;\n",
       "    }\n",
       "</style>\n",
       "<table border=\"1\" class=\"dataframe\">\n",
       "  <thead>\n",
       "    <tr style=\"text-align: right;\">\n",
       "      <th></th>\n",
       "      <th>yearCombine</th>\n",
       "      <th>position</th>\n",
       "      <th>height</th>\n",
       "      <th>weight</th>\n",
       "      <th>wingspan</th>\n",
       "      <th>reach_standing</th>\n",
       "      <th>standing_vertical</th>\n",
       "      <th>max_vertical</th>\n",
       "      <th>bench_reps</th>\n",
       "      <th>timeLaneAgility</th>\n",
       "      <th>timeThreeQuarterCourtSprint</th>\n",
       "      <th>timeModifiedLaneAgility</th>\n",
       "      <th>lengthHandInches</th>\n",
       "      <th>widthHandInches</th>\n",
       "      <th>body_fat_pct</th>\n",
       "    </tr>\n",
       "  </thead>\n",
       "  <tbody>\n",
       "    <tr>\n",
       "      <th>0</th>\n",
       "      <td>2011</td>\n",
       "      <td>PG</td>\n",
       "      <td>73.50</td>\n",
       "      <td>187.6</td>\n",
       "      <td>77.50</td>\n",
       "      <td>99.0</td>\n",
       "      <td>28.5</td>\n",
       "      <td>34.0</td>\n",
       "      <td>9.0</td>\n",
       "      <td>11.05</td>\n",
       "      <td>3.17</td>\n",
       "      <td>NaN</td>\n",
       "      <td>8.50</td>\n",
       "      <td>9.25</td>\n",
       "      <td>5.6</td>\n",
       "    </tr>\n",
       "    <tr>\n",
       "      <th>1</th>\n",
       "      <td>2012</td>\n",
       "      <td>SG</td>\n",
       "      <td>75.25</td>\n",
       "      <td>201.8</td>\n",
       "      <td>80.00</td>\n",
       "      <td>100.0</td>\n",
       "      <td>33.0</td>\n",
       "      <td>39.0</td>\n",
       "      <td>8.0</td>\n",
       "      <td>10.95</td>\n",
       "      <td>3.28</td>\n",
       "      <td>NaN</td>\n",
       "      <td>8.50</td>\n",
       "      <td>9.00</td>\n",
       "      <td>6.0</td>\n",
       "    </tr>\n",
       "    <tr>\n",
       "      <th>2</th>\n",
       "      <td>2000</td>\n",
       "      <td>PG</td>\n",
       "      <td>70.50</td>\n",
       "      <td>166.0</td>\n",
       "      <td>72.00</td>\n",
       "      <td>94.5</td>\n",
       "      <td>36.0</td>\n",
       "      <td>42.5</td>\n",
       "      <td>6.0</td>\n",
       "      <td>10.48</td>\n",
       "      <td>3.06</td>\n",
       "      <td>NaN</td>\n",
       "      <td>NaN</td>\n",
       "      <td>NaN</td>\n",
       "      <td>NaN</td>\n",
       "    </tr>\n",
       "    <tr>\n",
       "      <th>3</th>\n",
       "      <td>2011</td>\n",
       "      <td>SF</td>\n",
       "      <td>80.75</td>\n",
       "      <td>221.2</td>\n",
       "      <td>81.50</td>\n",
       "      <td>104.5</td>\n",
       "      <td>25.5</td>\n",
       "      <td>31.5</td>\n",
       "      <td>4.0</td>\n",
       "      <td>11.05</td>\n",
       "      <td>3.29</td>\n",
       "      <td>NaN</td>\n",
       "      <td>8.25</td>\n",
       "      <td>10.00</td>\n",
       "      <td>7.0</td>\n",
       "    </tr>\n",
       "    <tr>\n",
       "      <th>4</th>\n",
       "      <td>2008</td>\n",
       "      <td>SG-PG</td>\n",
       "      <td>72.75</td>\n",
       "      <td>166.2</td>\n",
       "      <td>79.25</td>\n",
       "      <td>98.0</td>\n",
       "      <td>31.0</td>\n",
       "      <td>39.0</td>\n",
       "      <td>2.0</td>\n",
       "      <td>10.98</td>\n",
       "      <td>3.08</td>\n",
       "      <td>NaN</td>\n",
       "      <td>NaN</td>\n",
       "      <td>NaN</td>\n",
       "      <td>3.8</td>\n",
       "    </tr>\n",
       "    <tr>\n",
       "      <th>...</th>\n",
       "      <td>...</td>\n",
       "      <td>...</td>\n",
       "      <td>...</td>\n",
       "      <td>...</td>\n",
       "      <td>...</td>\n",
       "      <td>...</td>\n",
       "      <td>...</td>\n",
       "      <td>...</td>\n",
       "      <td>...</td>\n",
       "      <td>...</td>\n",
       "      <td>...</td>\n",
       "      <td>...</td>\n",
       "      <td>...</td>\n",
       "      <td>...</td>\n",
       "      <td>...</td>\n",
       "    </tr>\n",
       "    <tr>\n",
       "      <th>1111</th>\n",
       "      <td>2019</td>\n",
       "      <td>SF-PF</td>\n",
       "      <td>80.00</td>\n",
       "      <td>250.8</td>\n",
       "      <td>84.50</td>\n",
       "      <td>106.0</td>\n",
       "      <td>28.5</td>\n",
       "      <td>31.5</td>\n",
       "      <td>15.0</td>\n",
       "      <td>12.46</td>\n",
       "      <td>3.30</td>\n",
       "      <td>3.40</td>\n",
       "      <td>9.00</td>\n",
       "      <td>10.00</td>\n",
       "      <td>6.7</td>\n",
       "    </tr>\n",
       "    <tr>\n",
       "      <th>1112</th>\n",
       "      <td>2000</td>\n",
       "      <td>SG-SF</td>\n",
       "      <td>76.00</td>\n",
       "      <td>205.0</td>\n",
       "      <td>83.00</td>\n",
       "      <td>102.0</td>\n",
       "      <td>35.0</td>\n",
       "      <td>38.0</td>\n",
       "      <td>10.0</td>\n",
       "      <td>11.40</td>\n",
       "      <td>3.15</td>\n",
       "      <td>NaN</td>\n",
       "      <td>NaN</td>\n",
       "      <td>NaN</td>\n",
       "      <td>NaN</td>\n",
       "    </tr>\n",
       "    <tr>\n",
       "      <th>1113</th>\n",
       "      <td>2000</td>\n",
       "      <td>PG-SG</td>\n",
       "      <td>73.50</td>\n",
       "      <td>205.5</td>\n",
       "      <td>76.50</td>\n",
       "      <td>97.5</td>\n",
       "      <td>31.0</td>\n",
       "      <td>38.5</td>\n",
       "      <td>24.0</td>\n",
       "      <td>10.99</td>\n",
       "      <td>3.31</td>\n",
       "      <td>NaN</td>\n",
       "      <td>NaN</td>\n",
       "      <td>NaN</td>\n",
       "      <td>NaN</td>\n",
       "    </tr>\n",
       "    <tr>\n",
       "      <th>1114</th>\n",
       "      <td>2017</td>\n",
       "      <td>SG-SF</td>\n",
       "      <td>75.75</td>\n",
       "      <td>197.4</td>\n",
       "      <td>83.25</td>\n",
       "      <td>101.5</td>\n",
       "      <td>34.5</td>\n",
       "      <td>44.5</td>\n",
       "      <td>0.0</td>\n",
       "      <td>10.88</td>\n",
       "      <td>3.11</td>\n",
       "      <td>2.79</td>\n",
       "      <td>8.50</td>\n",
       "      <td>9.50</td>\n",
       "      <td>5.2</td>\n",
       "    </tr>\n",
       "    <tr>\n",
       "      <th>1115</th>\n",
       "      <td>2001</td>\n",
       "      <td>PF-SF</td>\n",
       "      <td>80.00</td>\n",
       "      <td>242.0</td>\n",
       "      <td>84.25</td>\n",
       "      <td>106.0</td>\n",
       "      <td>27.0</td>\n",
       "      <td>31.5</td>\n",
       "      <td>11.0</td>\n",
       "      <td>12.25</td>\n",
       "      <td>3.35</td>\n",
       "      <td>NaN</td>\n",
       "      <td>NaN</td>\n",
       "      <td>NaN</td>\n",
       "      <td>10.5</td>\n",
       "    </tr>\n",
       "  </tbody>\n",
       "</table>\n",
       "<p>1116 rows × 15 columns</p>\n",
       "</div>"
      ],
      "text/plain": [
       "      yearCombine position  height  weight  wingspan  reach_standing  \\\n",
       "0            2011       PG   73.50   187.6     77.50            99.0   \n",
       "1            2012       SG   75.25   201.8     80.00           100.0   \n",
       "2            2000       PG   70.50   166.0     72.00            94.5   \n",
       "3            2011       SF   80.75   221.2     81.50           104.5   \n",
       "4            2008    SG-PG   72.75   166.2     79.25            98.0   \n",
       "...           ...      ...     ...     ...       ...             ...   \n",
       "1111         2019    SF-PF   80.00   250.8     84.50           106.0   \n",
       "1112         2000    SG-SF   76.00   205.0     83.00           102.0   \n",
       "1113         2000    PG-SG   73.50   205.5     76.50            97.5   \n",
       "1114         2017    SG-SF   75.75   197.4     83.25           101.5   \n",
       "1115         2001    PF-SF   80.00   242.0     84.25           106.0   \n",
       "\n",
       "      standing_vertical  max_vertical  bench_reps  timeLaneAgility  \\\n",
       "0                  28.5          34.0         9.0            11.05   \n",
       "1                  33.0          39.0         8.0            10.95   \n",
       "2                  36.0          42.5         6.0            10.48   \n",
       "3                  25.5          31.5         4.0            11.05   \n",
       "4                  31.0          39.0         2.0            10.98   \n",
       "...                 ...           ...         ...              ...   \n",
       "1111               28.5          31.5        15.0            12.46   \n",
       "1112               35.0          38.0        10.0            11.40   \n",
       "1113               31.0          38.5        24.0            10.99   \n",
       "1114               34.5          44.5         0.0            10.88   \n",
       "1115               27.0          31.5        11.0            12.25   \n",
       "\n",
       "      timeThreeQuarterCourtSprint  timeModifiedLaneAgility  lengthHandInches  \\\n",
       "0                            3.17                      NaN              8.50   \n",
       "1                            3.28                      NaN              8.50   \n",
       "2                            3.06                      NaN               NaN   \n",
       "3                            3.29                      NaN              8.25   \n",
       "4                            3.08                      NaN               NaN   \n",
       "...                           ...                      ...               ...   \n",
       "1111                         3.30                     3.40              9.00   \n",
       "1112                         3.15                      NaN               NaN   \n",
       "1113                         3.31                      NaN               NaN   \n",
       "1114                         3.11                     2.79              8.50   \n",
       "1115                         3.35                      NaN               NaN   \n",
       "\n",
       "      widthHandInches  body_fat_pct  \n",
       "0                9.25           5.6  \n",
       "1                9.00           6.0  \n",
       "2                 NaN           NaN  \n",
       "3               10.00           7.0  \n",
       "4                 NaN           3.8  \n",
       "...               ...           ...  \n",
       "1111            10.00           6.7  \n",
       "1112              NaN           NaN  \n",
       "1113              NaN           NaN  \n",
       "1114             9.50           5.2  \n",
       "1115              NaN          10.5  \n",
       "\n",
       "[1116 rows x 15 columns]"
      ]
     },
     "execution_count": 9,
     "metadata": {},
     "output_type": "execute_result"
    }
   ],
   "source": [
    "players"
   ]
  },
  {
   "cell_type": "code",
   "execution_count": null,
   "metadata": {},
   "outputs": [
    {
     "data": {
      "text/plain": [
       "Index(['position'], dtype='object')"
      ]
     },
     "execution_count": 10,
     "metadata": {},
     "output_type": "execute_result"
    }
   ],
   "source": [
    "cat_cols"
   ]
  },
  {
   "cell_type": "markdown",
   "metadata": {},
   "source": [
    "# Creating Pipelines"
   ]
  },
  {
   "cell_type": "code",
   "execution_count": 105,
   "metadata": {},
   "outputs": [],
   "source": [
    "# TODO: impute relevant numerical columns\n",
    "# TODO: custom transform\n",
    "# TODO: onehot encode\n",
    "# TODO: put it all in one pipeline\n",
    "\n",
    "num_impute_pipe = Pipeline([\n",
    "        ('imputer', SimpleImputer(strategy='median'))\n",
    "])\n",
    "\n",
    "cat_pipe = Pipeline([\n",
    "        ('custom_transform', CustomTransformer()),\n",
    "        ('encoder', OneHotEncoder()),\n",
    "])\n",
    "    \n",
    "\n"
   ]
  },
  {
   "cell_type": "code",
   "execution_count": 106,
   "metadata": {},
   "outputs": [],
   "source": [
    "preprocess_pipeline = ColumnTransformer([\n",
    "        ('num_impute', num_impute_pipe, num_impute_cols),\n",
    "        ('custom_transformer', cat_pipe, cat_cols),\n",
    "        ], remainder='passthrough')\n",
    "\n",
    "players_prepared = preprocess_pipeline.fit_transform(players)\n"
   ]
  },
  {
   "cell_type": "code",
   "execution_count": null,
   "metadata": {},
   "outputs": [
    {
     "data": {
      "text/plain": [
       "['preprocessed_pipeline.pkl']"
      ]
     },
     "execution_count": 70,
     "metadata": {},
     "output_type": "execute_result"
    }
   ],
   "source": [
    "# joblib.dump(preprocess_pipeline, 'preprocessed_pipeline.pkl')"
   ]
  },
  {
   "cell_type": "code",
   "execution_count": 107,
   "metadata": {},
   "outputs": [
    {
     "data": {
      "text/plain": [
       "(1116, 27)"
      ]
     },
     "execution_count": 107,
     "metadata": {},
     "output_type": "execute_result"
    }
   ],
   "source": [
    "players_prepared.shape"
   ]
  },
  {
   "cell_type": "code",
   "execution_count": 108,
   "metadata": {},
   "outputs": [
    {
     "data": {
      "text/plain": [
       "array([7.575e+01, 2.026e+02, 8.100e+01, 1.010e+02, 0.000e+00, 0.000e+00,\n",
       "       0.000e+00, 0.000e+00, 1.000e+00, 0.000e+00, 0.000e+00, 0.000e+00,\n",
       "       1.000e+00, 0.000e+00, 0.000e+00, 0.000e+00, 0.000e+00, 2.010e+03,\n",
       "       3.100e+01, 4.000e+01, 1.000e+01, 1.138e+01, 3.150e+00,       nan,\n",
       "       9.000e+00, 1.050e+01, 3.700e+00])"
      ]
     },
     "execution_count": 108,
     "metadata": {},
     "output_type": "execute_result"
    }
   ],
   "source": [
    "players_prepared[333]"
   ]
  },
  {
   "cell_type": "code",
   "execution_count": 109,
   "metadata": {},
   "outputs": [],
   "source": [
    "from xgboost import XGBClassifier\n",
    "from sklearn.model_selection import train_test_split, cross_val_predict"
   ]
  },
  {
   "cell_type": "code",
   "execution_count": null,
   "metadata": {},
   "outputs": [],
   "source": [
    "X = players_prepared\n",
    "y = players_label\n",
    "\n",
    "X_train, X_test, y_train, y_test = train_test_split(X, y, test_size=0.3, random_state=42)"
   ]
  },
  {
   "cell_type": "code",
   "execution_count": 110,
   "metadata": {},
   "outputs": [],
   "source": [
    "full_pipeline_with_predictor = Pipeline([\n",
    "        ('preparation', preprocess_pipeline),\n",
    "        ('xgboost', XGBClassifier())\n",
    "])\n",
    "\n",
    "predictions = cross_val_predict(full_pipeline_with_predictor, players, players_label)"
   ]
  },
  {
   "cell_type": "code",
   "execution_count": null,
   "metadata": {},
   "outputs": [
    {
     "data": {
      "text/plain": [
       "['full_pipeline_with_predictor.pkl']"
      ]
     },
     "execution_count": 71,
     "metadata": {},
     "output_type": "execute_result"
    }
   ],
   "source": [
    "# joblib.dump(full_pipeline_with_predictor, 'full_pipeline_with_predictor.pkl')"
   ]
  },
  {
   "cell_type": "code",
   "execution_count": null,
   "metadata": {},
   "outputs": [
    {
     "data": {
      "text/plain": [
       "array([1, 1, 0, ..., 0, 1, 0])"
      ]
     },
     "execution_count": 23,
     "metadata": {},
     "output_type": "execute_result"
    }
   ],
   "source": [
    "predictions"
   ]
  },
  {
   "cell_type": "code",
   "execution_count": 111,
   "metadata": {},
   "outputs": [
    {
     "data": {
      "text/plain": [
       "array([[236, 230],\n",
       "       [175, 475]], dtype=int64)"
      ]
     },
     "execution_count": 111,
     "metadata": {},
     "output_type": "execute_result"
    }
   ],
   "source": [
    "from sklearn.metrics import confusion_matrix\n",
    "\n",
    "confusion_matrix(players_label, predictions)"
   ]
  },
  {
   "cell_type": "code",
   "execution_count": 112,
   "metadata": {},
   "outputs": [
    {
     "name": "stdout",
     "output_type": "stream",
     "text": [
      "              precision    recall  f1-score   support\n",
      "\n",
      "       False       0.57      0.51      0.54       466\n",
      "        True       0.67      0.73      0.70       650\n",
      "\n",
      "    accuracy                           0.64      1116\n",
      "   macro avg       0.62      0.62      0.62      1116\n",
      "weighted avg       0.63      0.64      0.63      1116\n",
      "\n"
     ]
    }
   ],
   "source": [
    "from sklearn.metrics import precision_score, recall_score, classification_report\n",
    "\n",
    "print(classification_report(players_label, predictions))"
   ]
  },
  {
   "cell_type": "code",
   "execution_count": 113,
   "metadata": {},
   "outputs": [
    {
     "data": {
      "text/plain": [
       "0.7307692307692307"
      ]
     },
     "execution_count": 113,
     "metadata": {},
     "output_type": "execute_result"
    }
   ],
   "source": [
    "recall_score(players_label, predictions)"
   ]
  },
  {
   "cell_type": "code",
   "execution_count": null,
   "metadata": {},
   "outputs": [],
   "source": [
    "# TODO: RandomizedSearch\n",
    "# TODO; error analysis\n",
    "# TODO: add transformer in the pipeline to do feature selection\n",
    "# TODO: automate preparation with gridsearchcv"
   ]
  },
  {
   "cell_type": "code",
   "execution_count": null,
   "metadata": {},
   "outputs": [],
   "source": [
    "# this takes around 15 minutes\n",
    "\n",
    "# from sklearn.model_selection import RandomizedSearchCV\n",
    "# from scipy.stats import expon, reciprocal, uniform, randint\n",
    "\n",
    "# param_distribs = {\n",
    "#     'xgboost__n_estimators': randint(50, 250),\n",
    "#     'xgboost__gamma': expon(scale=1.0),\n",
    "#     'xgboost__max_depth': [3,4,5,6],\n",
    "#     'xgboost__learning_rate': uniform(0, 1),\n",
    "#     'xgboost__scale_pos_weight': uniform(0, 1)\n",
    "# }\n",
    "\n",
    "# rnd_search = RandomizedSearchCV(\n",
    "#     estimator=full_pipeline_with_predictor,\n",
    "#     param_distributions=param_distribs,\n",
    "#     n_iter=1000, cv=5,\n",
    "#     scoring='f1',\n",
    "#     verbose=1, random_state=42\n",
    "# )\n",
    "\n",
    "# rnd_search.fit(players, players_label)"
   ]
  },
  {
   "cell_type": "code",
   "execution_count": null,
   "metadata": {},
   "outputs": [],
   "source": [
    "# rnd_search.best_score_"
   ]
  },
  {
   "cell_type": "code",
   "execution_count": null,
   "metadata": {},
   "outputs": [],
   "source": [
    "# rnd_search.best_params_"
   ]
  },
  {
   "cell_type": "code",
   "execution_count": null,
   "metadata": {},
   "outputs": [],
   "source": [
    "# rnd_search_preds = rnd_search.predict(players)\n",
    "\n",
    "# print(classification_report(players_label, rnd_search_preds))"
   ]
  },
  {
   "cell_type": "code",
   "execution_count": null,
   "metadata": {},
   "outputs": [],
   "source": [
    "# confusion_matrix(players_label, rnd_search_preds)"
   ]
  },
  {
   "cell_type": "code",
   "execution_count": 114,
   "metadata": {},
   "outputs": [],
   "source": [
    "best_params = {'gamma': 0.7077225037713452,\n",
    " 'learning_rate': 0.0415728590503921,\n",
    " 'max_depth': 4,\n",
    " 'n_estimators': 69,\n",
    " 'scale_pos_weight': 0.9866301229588469}"
   ]
  },
  {
   "cell_type": "code",
   "execution_count": 115,
   "metadata": {},
   "outputs": [],
   "source": [
    "my_model = XGBClassifier(**best_params)"
   ]
  },
  {
   "cell_type": "code",
   "execution_count": 116,
   "metadata": {},
   "outputs": [
    {
     "data": {
      "text/plain": [
       "['../my_models/my_model_1.pkl']"
      ]
     },
     "execution_count": 116,
     "metadata": {},
     "output_type": "execute_result"
    }
   ],
   "source": [
    "joblib.dump(my_model, '../my_models/my_model_1.pkl')"
   ]
  },
  {
   "cell_type": "code",
   "execution_count": 117,
   "metadata": {},
   "outputs": [
    {
     "data": {
      "text/plain": [
       "XGBClassifier(base_score=0.5, booster='gbtree', callbacks=None,\n",
       "              colsample_bylevel=1, colsample_bynode=1, colsample_bytree=1,\n",
       "              early_stopping_rounds=None, enable_categorical=False,\n",
       "              eval_metric=None, gamma=0.7077225037713452, gpu_id=-1,\n",
       "              grow_policy='depthwise', importance_type=None,\n",
       "              interaction_constraints='', learning_rate=0.0415728590503921,\n",
       "              max_bin=256, max_cat_to_onehot=4, max_delta_step=0, max_depth=4,\n",
       "              max_leaves=0, min_child_weight=1, missing=nan,\n",
       "              monotone_constraints='()', n_estimators=69, n_jobs=0,\n",
       "              num_parallel_tree=1, predictor='auto', random_state=0,\n",
       "              reg_alpha=0, reg_lambda=1, ...)"
      ]
     },
     "execution_count": 117,
     "metadata": {},
     "output_type": "execute_result"
    }
   ],
   "source": [
    "my_model.fit(players_prepared, players_label)"
   ]
  },
  {
   "cell_type": "code",
   "execution_count": 118,
   "metadata": {},
   "outputs": [],
   "source": [
    "feature_importances = my_model.feature_importances_"
   ]
  },
  {
   "cell_type": "code",
   "execution_count": 119,
   "metadata": {},
   "outputs": [
    {
     "data": {
      "text/plain": [
       "array([0.03658016, 0.03682471, 0.04177871, 0.04711154, 0.06345328,\n",
       "       0.03705877, 0.04434658, 0.        , 0.03193853, 0.        ,\n",
       "       0.        , 0.04052213, 0.        , 0.        , 0.03214379,\n",
       "       0.02038953, 0.        , 0.20607047, 0.04554198, 0.03207496,\n",
       "       0.03522097, 0.04476059, 0.03724798, 0.04569929, 0.03719781,\n",
       "       0.04384853, 0.04018972], dtype=float32)"
      ]
     },
     "execution_count": 119,
     "metadata": {},
     "output_type": "execute_result"
    }
   ],
   "source": [
    "feature_importances"
   ]
  },
  {
   "cell_type": "code",
   "execution_count": 120,
   "metadata": {},
   "outputs": [],
   "source": [
    "cat_encoder = preprocess_pipeline.named_transformers_.custom_transformer.named_steps['encoder']\n",
    "cat_one_hot_attribs = list(np.concatenate(cat_encoder.categories_[:]))"
   ]
  },
  {
   "cell_type": "code",
   "execution_count": 121,
   "metadata": {},
   "outputs": [],
   "source": [
    "cat_one_hot_attribs = [str(i) for i in cat_one_hot_attribs]"
   ]
  },
  {
   "cell_type": "code",
   "execution_count": 122,
   "metadata": {},
   "outputs": [],
   "source": [
    "attributes = num_impute_cols  + cat_one_hot_attribs + num_other_cols"
   ]
  },
  {
   "cell_type": "code",
   "execution_count": 123,
   "metadata": {},
   "outputs": [
    {
     "data": {
      "text/plain": [
       "[(0.036580164, 'height'),\n",
       " (0.036824714, 'weight'),\n",
       " (0.04177871, 'wingspan'),\n",
       " (0.04711154, 'reach_standing'),\n",
       " (0.06345328, 'C'),\n",
       " (0.037058767, 'PF'),\n",
       " (0.044346582, 'PG'),\n",
       " (0.0, 'SF'),\n",
       " (0.031938534, 'SG'),\n",
       " (0.0, 'nan'),\n",
       " (0.0, 'C'),\n",
       " (0.04052213, 'PF'),\n",
       " (0.0, 'PG'),\n",
       " (0.0, 'SF'),\n",
       " (0.032143787, 'SG'),\n",
       " (0.020389529, 'None'),\n",
       " (0.0, 'nan'),\n",
       " (0.20607047, 'yearCombine'),\n",
       " (0.04554198, 'standing_vertical'),\n",
       " (0.032074958, 'max_vertical'),\n",
       " (0.035220973, 'bench_reps'),\n",
       " (0.044760592, 'timeLaneAgility'),\n",
       " (0.03724798, 'timeThreeQuarterCourtSprint'),\n",
       " (0.04569929, 'timeModifiedLaneAgility'),\n",
       " (0.037197813, 'lengthHandInches'),\n",
       " (0.043848526, 'widthHandInches'),\n",
       " (0.040189717, 'body_fat_pct')]"
      ]
     },
     "execution_count": 123,
     "metadata": {},
     "output_type": "execute_result"
    }
   ],
   "source": [
    "list(zip(feature_importances, attributes))"
   ]
  },
  {
   "cell_type": "code",
   "execution_count": 124,
   "metadata": {},
   "outputs": [
    {
     "data": {
      "text/plain": [
       "[(0.20607047, 'yearCombine'),\n",
       " (0.06345328, 'C'),\n",
       " (0.04711154, 'reach_standing'),\n",
       " (0.04569929, 'timeModifiedLaneAgility'),\n",
       " (0.04554198, 'standing_vertical'),\n",
       " (0.044760592, 'timeLaneAgility'),\n",
       " (0.044346582, 'PG'),\n",
       " (0.043848526, 'widthHandInches'),\n",
       " (0.04177871, 'wingspan'),\n",
       " (0.04052213, 'PF'),\n",
       " (0.040189717, 'body_fat_pct'),\n",
       " (0.03724798, 'timeThreeQuarterCourtSprint'),\n",
       " (0.037197813, 'lengthHandInches'),\n",
       " (0.037058767, 'PF'),\n",
       " (0.036824714, 'weight'),\n",
       " (0.036580164, 'height'),\n",
       " (0.035220973, 'bench_reps'),\n",
       " (0.032143787, 'SG'),\n",
       " (0.032074958, 'max_vertical'),\n",
       " (0.031938534, 'SG'),\n",
       " (0.020389529, 'None'),\n",
       " (0.0, 'nan'),\n",
       " (0.0, 'nan'),\n",
       " (0.0, 'SF'),\n",
       " (0.0, 'SF'),\n",
       " (0.0, 'PG'),\n",
       " (0.0, 'C')]"
      ]
     },
     "execution_count": 124,
     "metadata": {},
     "output_type": "execute_result"
    }
   ],
   "source": [
    "sorted(zip(feature_importances, attributes), reverse=True)"
   ]
  },
  {
   "cell_type": "markdown",
   "metadata": {},
   "source": [
    "# Feature Selection"
   ]
  },
  {
   "cell_type": "code",
   "execution_count": 125,
   "metadata": {},
   "outputs": [
    {
     "name": "stdout",
     "output_type": "stream",
     "text": [
      "Optimal number of features : 15\n"
     ]
    },
    {
     "data": {
      "image/png": "[encoded data removed]",
      "text/plain": [
       "<Figure size 432x288 with 1 Axes>"
      ]
     },
     "metadata": {
      "needs_background": "light"
     },
     "output_type": "display_data"
    }
   ],
   "source": [
    "from sklearn.feature_selection import RFECV\n",
    "from sklearn.base import clone\n",
    "from sklearn.model_selection import StratifiedKFold\n",
    "\n",
    "\n",
    "min_features_to_select = 5  # Minimum number of features to consider\n",
    "rfecv = RFECV(\n",
    "    estimator=clone(my_model),\n",
    "    step=1,\n",
    "    cv=StratifiedKFold(5),\n",
    "    scoring=\"f1\",\n",
    "    min_features_to_select=min_features_to_select,\n",
    ")\n",
    "rfecv.fit(players_prepared, players_label)\n",
    "\n",
    "print(\"Optimal number of features : %d\" % rfecv.n_features_)\n",
    "\n",
    "# Plot number of features VS. cross-validation scores\n",
    "plt.figure()\n",
    "plt.xlabel(\"Number of features selected\")\n",
    "plt.ylabel(\"Cross validation score (F1-Score)\")\n",
    "plt.plot(\n",
    "    range(min_features_to_select, len(rfecv.cv_results_['mean_test_score']) + min_features_to_select),\n",
    "    rfecv.cv_results_['mean_test_score'],\n",
    ")\n",
    "plt.show()"
   ]
  },
  {
   "cell_type": "code",
   "execution_count": 126,
   "metadata": {},
   "outputs": [
    {
     "data": {
      "text/plain": [
       "array([0.03658016, 0.03682471, 0.04177871, 0.04711154, 0.06345328,\n",
       "       0.03705877, 0.04434658, 0.        , 0.03193853, 0.        ,\n",
       "       0.        , 0.04052213, 0.        , 0.        , 0.03214379,\n",
       "       0.02038953, 0.        , 0.20607047, 0.04554198, 0.03207496,\n",
       "       0.03522097, 0.04476059, 0.03724798, 0.04569929, 0.03719781,\n",
       "       0.04384853, 0.04018972], dtype=float32)"
      ]
     },
     "execution_count": 126,
     "metadata": {},
     "output_type": "execute_result"
    }
   ],
   "source": [
    "feature_importances"
   ]
  },
  {
   "cell_type": "code",
   "execution_count": 127,
   "metadata": {},
   "outputs": [
    {
     "data": {
      "text/plain": [
       "array([ 1,  2,  3,  4,  5,  6, 11, 17, 18, 21, 22, 23, 24, 25, 26],\n",
       "      dtype=int64)"
      ]
     },
     "execution_count": 127,
     "metadata": {},
     "output_type": "execute_result"
    }
   ],
   "source": [
    "np.sort(np.argpartition(feature_importances, -15)[-15:])"
   ]
  },
  {
   "cell_type": "code",
   "execution_count": 128,
   "metadata": {},
   "outputs": [
    {
     "data": {
      "text/plain": [
       "array(['weight', 'wingspan', 'reach_standing', 'C', 'PF', 'PG', 'PF',\n",
       "       'yearCombine', 'standing_vertical', 'timeLaneAgility',\n",
       "       'timeThreeQuarterCourtSprint', 'timeModifiedLaneAgility',\n",
       "       'lengthHandInches', 'widthHandInches', 'body_fat_pct'],\n",
       "      dtype='<U27')"
      ]
     },
     "execution_count": 128,
     "metadata": {},
     "output_type": "execute_result"
    }
   ],
   "source": [
    "def indices_of_top_k(arr, k):\n",
    "    return np.sort(np.argpartition(np.array(arr), -k)[-k:])\n",
    "\n",
    "top_15_indices = indices_of_top_k(feature_importances, 15)\n",
    "np.array(attributes)[top_15_indices]"
   ]
  },
  {
   "cell_type": "code",
   "execution_count": 129,
   "metadata": {},
   "outputs": [
    {
     "data": {
      "text/plain": [
       "[(0.20607047, 'yearCombine'),\n",
       " (0.06345328, 'C'),\n",
       " (0.04711154, 'reach_standing'),\n",
       " (0.04569929, 'timeModifiedLaneAgility'),\n",
       " (0.04554198, 'standing_vertical'),\n",
       " (0.044760592, 'timeLaneAgility'),\n",
       " (0.044346582, 'PG'),\n",
       " (0.043848526, 'widthHandInches'),\n",
       " (0.04177871, 'wingspan'),\n",
       " (0.04052213, 'PF'),\n",
       " (0.040189717, 'body_fat_pct'),\n",
       " (0.03724798, 'timeThreeQuarterCourtSprint'),\n",
       " (0.037197813, 'lengthHandInches'),\n",
       " (0.037058767, 'PF'),\n",
       " (0.036824714, 'weight')]"
      ]
     },
     "execution_count": 129,
     "metadata": {},
     "output_type": "execute_result"
    }
   ],
   "source": [
    "sorted(zip(feature_importances, attributes), reverse=True)[:15]"
   ]
  },
  {
   "cell_type": "code",
   "execution_count": 130,
   "metadata": {},
   "outputs": [],
   "source": [
    "preprocess_and_feature_selection_pipeline = Pipeline([\n",
    "    ('preprocessing', preprocess_pipeline),\n",
    "    ('feature_selection', TopFeatureSelector(feature_importances, 15))\n",
    "])"
   ]
  },
  {
   "cell_type": "code",
   "execution_count": null,
   "metadata": {},
   "outputs": [
    {
     "data": {
      "text/plain": [
       "['preprocess_and_feature_selection_pipeline.pkl']"
      ]
     },
     "execution_count": 72,
     "metadata": {},
     "output_type": "execute_result"
    }
   ],
   "source": [
    "# joblib.dump(preprocess_and_feature_selection_pipeline,\n",
    "#             'preprocess_and_feature_selection_pipeline.pkl')\n"
   ]
  },
  {
   "cell_type": "code",
   "execution_count": 131,
   "metadata": {},
   "outputs": [],
   "source": [
    "players_prepared_top15_features = preprocess_and_feature_selection_pipeline.fit_transform(players)"
   ]
  },
  {
   "cell_type": "code",
   "execution_count": 132,
   "metadata": {},
   "outputs": [
    {
     "data": {
      "text/plain": [
       "array([[1.876e+02, 7.750e+01, 9.900e+01, 0.000e+00, 0.000e+00, 1.000e+00,\n",
       "        0.000e+00, 2.011e+03, 2.850e+01, 1.105e+01, 3.170e+00,       nan,\n",
       "        8.500e+00, 9.250e+00, 5.600e+00],\n",
       "       [2.018e+02, 8.000e+01, 1.000e+02, 0.000e+00, 0.000e+00, 0.000e+00,\n",
       "        0.000e+00, 2.012e+03, 3.300e+01, 1.095e+01, 3.280e+00,       nan,\n",
       "        8.500e+00, 9.000e+00, 6.000e+00],\n",
       "       [1.660e+02, 7.200e+01, 9.450e+01, 0.000e+00, 0.000e+00, 1.000e+00,\n",
       "        0.000e+00, 2.000e+03, 3.600e+01, 1.048e+01, 3.060e+00,       nan,\n",
       "              nan,       nan,       nan]])"
      ]
     },
     "execution_count": 132,
     "metadata": {},
     "output_type": "execute_result"
    }
   ],
   "source": [
    "players_prepared_top15_features[0:3]"
   ]
  },
  {
   "cell_type": "code",
   "execution_count": null,
   "metadata": {},
   "outputs": [
    {
     "data": {
      "text/plain": [
       "array([[1.876e+02, 7.750e+01, 9.900e+01, 0.000e+00, 0.000e+00, 1.000e+00,\n",
       "        0.000e+00, 2.011e+03, 2.850e+01, 1.105e+01, 3.170e+00,       nan,\n",
       "        8.500e+00, 9.250e+00, 5.600e+00],\n",
       "       [2.018e+02, 8.000e+01, 1.000e+02, 0.000e+00, 0.000e+00, 0.000e+00,\n",
       "        0.000e+00, 2.012e+03, 3.300e+01, 1.095e+01, 3.280e+00,       nan,\n",
       "        8.500e+00, 9.000e+00, 6.000e+00],\n",
       "       [1.660e+02, 7.200e+01, 9.450e+01, 0.000e+00, 0.000e+00, 1.000e+00,\n",
       "        0.000e+00, 2.000e+03, 3.600e+01, 1.048e+01, 3.060e+00,       nan,\n",
       "              nan,       nan,       nan]])"
      ]
     },
     "execution_count": 45,
     "metadata": {},
     "output_type": "execute_result"
    }
   ],
   "source": [
    "players_prepared[0:3, top_15_indices]"
   ]
  },
  {
   "cell_type": "markdown",
   "metadata": {},
   "source": [
    "# Complete Pipeline from Data Preparation plus Final Prediction"
   ]
  },
  {
   "cell_type": "code",
   "execution_count": 134,
   "metadata": {},
   "outputs": [],
   "source": [
    "model_2_params = {'gamma': 4.105697122281739,\n",
    " 'learning_rate': 0.14071152804875842,\n",
    " 'max_depth': 3,\n",
    " 'n_estimators': 57,\n",
    " 'scale_pos_weight': 0.8939897100078704}"
   ]
  },
  {
   "cell_type": "code",
   "execution_count": 139,
   "metadata": {},
   "outputs": [],
   "source": [
    "preproces_select_and_predict_pipeline = Pipeline([\n",
    "    ('preparation', preprocess_pipeline),\n",
    "    ('feature_selection', TopFeatureSelector(feature_importances, 15)),\n",
    "    ('xgboost_clf', XGBClassifier(**best_params))\n",
    "])"
   ]
  },
  {
   "cell_type": "code",
   "execution_count": 73,
   "metadata": {},
   "outputs": [
    {
     "data": {
      "text/plain": [
       "['complete_pipeline.pkl']"
      ]
     },
     "execution_count": 73,
     "metadata": {},
     "output_type": "execute_result"
    }
   ],
   "source": [
    "# joblib.dump(preproces_select_and_predict_pipeline, 'complete_pipeline.pkl')"
   ]
  },
  {
   "cell_type": "code",
   "execution_count": null,
   "metadata": {},
   "outputs": [],
   "source": [
    "# param_distribs = {\n",
    "#     'xgboost_clf__n_estimators': randint(50, 250),\n",
    "#     'xgboost_clf__gamma': expon(scale=1.0),\n",
    "#     'xgboost_clf__max_depth': [3,4,5,6],\n",
    "#     'xgboost_clf__learning_rate': uniform(0, 1),\n",
    "#     'xgboost_clf__scale_pos_weight': uniform(0, 1)\n",
    "# }\n",
    "\n",
    "# rnd_search_complete_pipeline = RandomizedSearchCV(\n",
    "#     estimator=preproces_select_and_predict_pipeline,\n",
    "#     param_distributions=param_distribs,\n",
    "#     n_iter=1000, cv=5,\n",
    "#     scoring='f1',\n",
    "#     verbose=1, random_state=42\n",
    "# )\n",
    "# rnd_search_complete_pipeline.fit(players, players_label)"
   ]
  },
  {
   "cell_type": "code",
   "execution_count": null,
   "metadata": {},
   "outputs": [],
   "source": [
    "# rnd_search_complete_pipeline.best_params_"
   ]
  },
  {
   "cell_type": "code",
   "execution_count": 136,
   "metadata": {},
   "outputs": [],
   "source": [
    "complete_pipe_pred = cross_val_predict(preproces_select_and_predict_pipeline, players, players_label)"
   ]
  },
  {
   "cell_type": "code",
   "execution_count": 137,
   "metadata": {},
   "outputs": [
    {
     "name": "stdout",
     "output_type": "stream",
     "text": [
      "              precision    recall  f1-score   support\n",
      "\n",
      "       False       0.63      0.58      0.61       466\n",
      "        True       0.72      0.76      0.74       650\n",
      "\n",
      "    accuracy                           0.68      1116\n",
      "   macro avg       0.67      0.67      0.67      1116\n",
      "weighted avg       0.68      0.68      0.68      1116\n",
      "\n"
     ]
    }
   ],
   "source": [
    "print(classification_report(players_label, complete_pipe_pred))"
   ]
  },
  {
   "cell_type": "code",
   "execution_count": 140,
   "metadata": {},
   "outputs": [
    {
     "data": {
      "text/plain": [
       "['../my_models/my_model_3.pkl']"
      ]
     },
     "execution_count": 140,
     "metadata": {},
     "output_type": "execute_result"
    }
   ],
   "source": [
    "# joblib.dump(preproces_select_and_predict_pipeline, '../my_models/my_model_3.pkl')"
   ]
  },
  {
   "cell_type": "markdown",
   "metadata": {},
   "source": [
    "Model 1: XGBoostClassifier with RandomizedSearch and all features used<br>\n",
    "Params\n",
    "<br>\n",
    "{'xgboost__gamma': 0.7077225037713452,\n",
    " 'xgboost__learning_rate': 0.0415728590503921,\n",
    " 'xgboost__max_depth': 4,\n",
    " 'xgboost__n_estimators': 69,\n",
    " 'xgboost__scale_pos_weight': 0.9866301229588469}\n",
    "<br>\n",
    "<hr>\n",
    "<br>\n",
    "Model 2: XGBoostClassifier with complete pipeline and randomized search with 15 selected features<br>\n",
    "Params<br>\n",
    "{'xgboost_clf__gamma': 4.105697122281739,\n",
    " 'xgboost_clf__learning_rate': 0.14071152804875842,\n",
    " 'xgboost_clf__max_depth': 3,\n",
    " 'xgboost_clf__n_estimators': 57,\n",
    " 'xgboost_clf__scale_pos_weight': 0.8939897100078704}\n",
    " <br>\n",
    " <hr>\n",
    " <br>\n",
    " Model 3: Model 2 but with model 1's params"
   ]
  },
  {
   "cell_type": "code",
   "execution_count": 141,
   "metadata": {},
   "outputs": [],
   "source": [
    "model_1 = joblib.load('../my_models/my_model_1.pkl')\n",
    "model_2 = joblib.load('../my_models/my_model_2.pkl')\n",
    "model_3 = joblib.load('../my_models/my_model_3.pkl')"
   ]
  },
  {
   "cell_type": "code",
   "execution_count": 50,
   "metadata": {},
   "outputs": [],
   "source": [
    "model_1_preds = cross_val_predict(model_1, players_prepared, players_label)"
   ]
  },
  {
   "cell_type": "code",
   "execution_count": 51,
   "metadata": {},
   "outputs": [],
   "source": [
    "model_2_preds = cross_val_predict(model_2, players, players_label)"
   ]
  },
  {
   "cell_type": "code",
   "execution_count": 52,
   "metadata": {},
   "outputs": [],
   "source": [
    "model_3_preds = cross_val_predict(model_3, players, players_label)"
   ]
  },
  {
   "cell_type": "code",
   "execution_count": 53,
   "metadata": {},
   "outputs": [
    {
     "data": {
      "text/plain": [
       "array([[254, 212],\n",
       "       [157, 493]], dtype=int64)"
      ]
     },
     "execution_count": 53,
     "metadata": {},
     "output_type": "execute_result"
    }
   ],
   "source": [
    "confusion_matrix(players_label, model_1_preds)"
   ]
  },
  {
   "cell_type": "code",
   "execution_count": 54,
   "metadata": {},
   "outputs": [
    {
     "name": "stdout",
     "output_type": "stream",
     "text": [
      "              precision    recall  f1-score   support\n",
      "\n",
      "       False       0.62      0.55      0.58       466\n",
      "        True       0.70      0.76      0.73       650\n",
      "\n",
      "    accuracy                           0.67      1116\n",
      "   macro avg       0.66      0.65      0.65      1116\n",
      "weighted avg       0.67      0.67      0.67      1116\n",
      "\n"
     ]
    }
   ],
   "source": [
    "print(classification_report(players_label, model_1_preds))"
   ]
  },
  {
   "cell_type": "code",
   "execution_count": 55,
   "metadata": {},
   "outputs": [
    {
     "data": {
      "text/plain": [
       "array([[272, 194],\n",
       "       [159, 491]], dtype=int64)"
      ]
     },
     "execution_count": 55,
     "metadata": {},
     "output_type": "execute_result"
    }
   ],
   "source": [
    "confusion_matrix(players_label, model_2_preds)"
   ]
  },
  {
   "cell_type": "code",
   "execution_count": 56,
   "metadata": {},
   "outputs": [
    {
     "name": "stdout",
     "output_type": "stream",
     "text": [
      "              precision    recall  f1-score   support\n",
      "\n",
      "       False       0.63      0.58      0.61       466\n",
      "        True       0.72      0.76      0.74       650\n",
      "\n",
      "    accuracy                           0.68      1116\n",
      "   macro avg       0.67      0.67      0.67      1116\n",
      "weighted avg       0.68      0.68      0.68      1116\n",
      "\n"
     ]
    }
   ],
   "source": [
    "print(classification_report(players_label, model_2_preds))"
   ]
  },
  {
   "cell_type": "code",
   "execution_count": 57,
   "metadata": {},
   "outputs": [
    {
     "data": {
      "text/plain": [
       "array([[247, 219],\n",
       "       [150, 500]], dtype=int64)"
      ]
     },
     "execution_count": 57,
     "metadata": {},
     "output_type": "execute_result"
    }
   ],
   "source": [
    "confusion_matrix(players_label, model_3_preds)"
   ]
  },
  {
   "cell_type": "code",
   "execution_count": 58,
   "metadata": {},
   "outputs": [
    {
     "name": "stdout",
     "output_type": "stream",
     "text": [
      "              precision    recall  f1-score   support\n",
      "\n",
      "       False       0.62      0.53      0.57       466\n",
      "        True       0.70      0.77      0.73       650\n",
      "\n",
      "    accuracy                           0.67      1116\n",
      "   macro avg       0.66      0.65      0.65      1116\n",
      "weighted avg       0.66      0.67      0.66      1116\n",
      "\n"
     ]
    }
   ],
   "source": [
    "print(classification_report(players_label, model_3_preds))"
   ]
  },
  {
   "cell_type": "markdown",
   "metadata": {},
   "source": [
    "# ERROR ANALYSIS\n",
    "\n",
    "So far, model 2 meets the needs of the solution most. It has the best precision, which is what I'm going for. "
   ]
  },
  {
   "cell_type": "code",
   "execution_count": 142,
   "metadata": {},
   "outputs": [
    {
     "data": {
      "text/plain": [
       "<sklearn.metrics._plot.confusion_matrix.ConfusionMatrixDisplay at 0x2782ba41ca0>"
      ]
     },
     "execution_count": 142,
     "metadata": {},
     "output_type": "execute_result"
    },
    {
     "data": {
      "image/png": "[encoded data removed]",
      "text/plain": [
       "<Figure size 432x288 with 2 Axes>"
      ]
     },
     "metadata": {
      "needs_background": "light"
     },
     "output_type": "display_data"
    }
   ],
   "source": [
    "from sklearn.metrics import ConfusionMatrixDisplay\n",
    "\n",
    "ConfusionMatrixDisplay.from_predictions(players_label, model_2_preds)"
   ]
  },
  {
   "cell_type": "code",
   "execution_count": 143,
   "metadata": {},
   "outputs": [],
   "source": [
    "y_probas = cross_val_predict(model_2, players, players_label, cv=5, method='predict_proba')"
   ]
  },
  {
   "cell_type": "code",
   "execution_count": 144,
   "metadata": {},
   "outputs": [
    {
     "data": {
      "image/png": "[encoded data removed]",
      "text/plain": [
       "<Figure size 576x288 with 1 Axes>"
      ]
     },
     "metadata": {
      "needs_background": "light"
     },
     "output_type": "display_data"
    }
   ],
   "source": [
    "from sklearn.metrics import precision_recall_curve\n",
    "\n",
    "precisions, recalls, thresholds = precision_recall_curve(players_label, y_probas[:,1])\n",
    "\n",
    "def plot_precision_recall_vs_threshold(precisions, recalls, thresholds):\n",
    "    plt.plot(thresholds, precisions[:-1], \"b--\", label=\"Precision\", linewidth=2)\n",
    "    plt.plot(thresholds, recalls[:-1], \"g-\", label=\"Recall\", linewidth=2)\n",
    "    plt.legend(loc=\"center right\", fontsize=16) # Not shown in the book\n",
    "    plt.xlabel(\"Threshold\", fontsize=16)        # Not shown\n",
    "    plt.grid(True)                              # Not shown\n",
    "    plt.axis([0.1, 1, 0, 1])             # Not shown\n",
    "\n",
    "\n",
    "\n",
    "recall_80_precision = recalls[np.argmax(precisions >= 0.8)]\n",
    "threshold_80_precision = thresholds[np.argmax(precisions >= 0.8)]\n",
    "\n",
    "\n",
    "plt.figure(figsize=(8, 4))                                                                  # Not shown\n",
    "plot_precision_recall_vs_threshold(precisions, recalls, thresholds)\n",
    "plt.plot([threshold_80_precision, threshold_80_precision], [0., 0.8], \"r:\")                 # Not shown\n",
    "plt.plot([0, threshold_80_precision], [0.8, 0.8], \"r:\")                                # Not shown\n",
    "plt.plot([0, threshold_80_precision], [recall_80_precision, recall_80_precision], \"r:\")# Not shown\n",
    "plt.plot([threshold_80_precision], [0.8], \"ro\")                                             # Not shown\n",
    "plt.plot([threshold_80_precision], [recall_80_precision], \"ro\")                             # Not shown\n",
    "(\"precision_recall_vs_threshold_plot\")                                              # Not shown\n",
    "plt.show()"
   ]
  },
  {
   "cell_type": "code",
   "execution_count": 145,
   "metadata": {},
   "outputs": [],
   "source": [
    "y_pred_precision = (y_probas > 0.6)"
   ]
  },
  {
   "cell_type": "code",
   "execution_count": 146,
   "metadata": {},
   "outputs": [
    {
     "data": {
      "text/plain": [
       "array([ True,  True, False, ..., False,  True, False])"
      ]
     },
     "execution_count": 146,
     "metadata": {},
     "output_type": "execute_result"
    }
   ],
   "source": [
    "y_pred_precision[:,1]"
   ]
  },
  {
   "cell_type": "code",
   "execution_count": 147,
   "metadata": {},
   "outputs": [
    {
     "data": {
      "text/plain": [
       "<sklearn.metrics._plot.confusion_matrix.ConfusionMatrixDisplay at 0x27833e12dc0>"
      ]
     },
     "execution_count": 147,
     "metadata": {},
     "output_type": "execute_result"
    },
    {
     "data": {
      "image/png": "[encoded data removed]",
      "text/plain": [
       "<Figure size 432x288 with 2 Axes>"
      ]
     },
     "metadata": {
      "needs_background": "light"
     },
     "output_type": "display_data"
    }
   ],
   "source": [
    "ConfusionMatrixDisplay.from_predictions(players_label, y_pred_precision[:,1])"
   ]
  },
  {
   "cell_type": "code",
   "execution_count": 148,
   "metadata": {},
   "outputs": [
    {
     "name": "stdout",
     "output_type": "stream",
     "text": [
      "              precision    recall  f1-score   support\n",
      "\n",
      "       False       0.57      0.73      0.64       466\n",
      "        True       0.76      0.60      0.67       650\n",
      "\n",
      "    accuracy                           0.66      1116\n",
      "   macro avg       0.66      0.67      0.66      1116\n",
      "weighted avg       0.68      0.66      0.66      1116\n",
      "\n"
     ]
    }
   ],
   "source": [
    "print(classification_report(players_label, y_pred_precision[:,1]))"
   ]
  },
  {
   "cell_type": "code",
   "execution_count": 161,
   "metadata": {},
   "outputs": [
    {
     "data": {
      "text/plain": [
       "<sklearn.metrics._plot.precision_recall_curve.PrecisionRecallDisplay at 0x278351c8160>"
      ]
     },
     "execution_count": 161,
     "metadata": {},
     "output_type": "execute_result"
    },
    {
     "data": {
      "image/png": "[encoded data removed]",
      "text/plain": [
       "<Figure size 432x288 with 1 Axes>"
      ]
     },
     "metadata": {
      "needs_background": "light"
     },
     "output_type": "display_data"
    }
   ],
   "source": [
    "from sklearn.metrics import PrecisionRecallDisplay, RocCurveDisplay, roc_curve, auc\n",
    "\n",
    "disp = PrecisionRecallDisplay(precisions, recalls)\n",
    "disp.plot()"
   ]
  },
  {
   "cell_type": "code",
   "execution_count": 162,
   "metadata": {},
   "outputs": [
    {
     "data": {
      "image/png": "[encoded data removed]",
      "text/plain": [
       "<Figure size 432x288 with 1 Axes>"
      ]
     },
     "metadata": {
      "needs_background": "light"
     },
     "output_type": "display_data"
    }
   ],
   "source": [
    "fpr, tpr, thresholds = roc_curve(players_label, y_probas[:,1])\n",
    "\n",
    "roc_auc = auc(fpr, tpr)\n",
    "display = RocCurveDisplay(fpr=fpr, tpr=tpr, roc_auc=roc_auc)\n",
    "display.plot();"
   ]
  },
  {
   "cell_type": "code",
   "execution_count": 153,
   "metadata": {},
   "outputs": [],
   "source": [
    "final_model = model_2.fit(players, players_label)"
   ]
  },
  {
   "cell_type": "code",
   "execution_count": 154,
   "metadata": {},
   "outputs": [
    {
     "data": {
      "text/plain": [
       "['../my_models/final_model.pkl']"
      ]
     },
     "execution_count": 154,
     "metadata": {},
     "output_type": "execute_result"
    }
   ],
   "source": [
    "joblib.dump(final_model, '../my_models/final_model.pkl')"
   ]
  }
 ],
 "metadata": {
  "kernelspec": {
   "display_name": "Python 3.9.12 ('base')",
   "language": "python",
   "name": "python3"
  },
  "language_info": {
   "codemirror_mode": {
    "name": "ipython",
    "version": 3
   },
   "file_extension": ".py",
   "mimetype": "text/x-python",
   "name": "python",
   "nbconvert_exporter": "python",
   "pygments_lexer": "ipython3",
   "version": "3.9.12"
  },
  "orig_nbformat": 4,
  "vscode": {
   "interpreter": {
    "hash": "482b3c46282c519bd45e46c2a9de4a80953a84a049a5b3e47671bbc104c04702"
   }
  }
 },
 "nbformat": 4,
 "nbformat_minor": 2
}
